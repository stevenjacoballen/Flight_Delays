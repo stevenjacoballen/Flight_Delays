{
 "cells": [
  {
   "cell_type": "markdown",
   "id": "6b4371be",
   "metadata": {},
   "source": [
    "# Utilizing Machine Learning to Detect Flight Delays\n",
    "\n",
    "### **Research Question**\n",
    "How accurately (via recall) can flight delays be predicted using airline performance and weather data?\n",
    "\n",
    "### **Project Outline**\n",
    "1.\t**Import and Clean Data:** Two datasets consisting of airline performance, and weather data.\n",
    "2.\t**PostgreSQL Database:** Create database from the cleaned datasets above, and then query database for finalized project dataset.\n",
    "3.\t**Exploratory Data Analysis.**\n",
    "4.\t**Machine Learning:** Scale data and train the two following models for binary classification (delayed flight or not delayed) to establish baseline performance. Both models will also undergo hyperparameter tuning and will have run-times and performance tracked.\n",
    " + Logistic Regression\n",
    " + Gradient Boosting Classifier\n",
    "5.\t**Principal Component Analysis:** Conduct PCA on data set to reduce dimensionality and ideally, increase model performance/efficiency.\n",
    "6.\t**Retrain Models:** Retrain both models after PCA using the optimally tuned hyperparameters.\n",
    "7.\t**Results, Observations, Conclusion:** Evaluate baseline, tuned, and post-PCA performance for both ML models.\n",
    "\n",
    "### **Project Scope**\n",
    "\n",
    "**Year:** 2019  \n",
    "**Airline:** Delta  \n",
    "**Origin Airports:**\n",
    "* Atlanta (ATL)\n",
    "* Detroit (DTW)\n",
    "* LaGuardia (LGA) \n",
    "* Minneapolis/St. Pual (MSP)\n",
    "* Salt Lake City (SLC)\n",
    "\n",
    "### **Data Sources**\n",
    "1.\t**Airline On-Time Performance data:** Bureau of Transportation Statistics (BTS)\n",
    "2.\t**Hourly local climatological (weather) data:** National Oceanic and Atmospheric Administration (NOAA)."
   ]
  },
  {
   "cell_type": "markdown",
   "id": "d4ee478c",
   "metadata": {},
   "source": [
    "# Imports"
   ]
  },
  {
   "cell_type": "code",
   "execution_count": 1,
   "id": "9014229e",
   "metadata": {},
   "outputs": [],
   "source": [
    "# Imports & Database Connection\n",
    "\n",
    "# Necessary imports for EDA & 'The Basics'\n",
    "import pandas as pd\n",
    "import numpy as np\n",
    "from matplotlib import pyplot as plt\n",
    "import math\n",
    "\n",
    "# Necessary imports to connect to Postgresql\n",
    "import sqlalchemy as db\n",
    "import os\n",
    "from dotenv import load_dotenv \n",
    "\n",
    "from sqlalchemy import create_engine\n",
    "\n",
    "# Necessary imports for ML\n",
    "from sklearn.model_selection import train_test_split\n",
    "from sklearn.preprocessing import StandardScaler\n",
    "from sklearn.model_selection import RandomizedSearchCV\n",
    "from sklearn.model_selection import GridSearchCV\n",
    "from sklearn.linear_model import LogisticRegression\n",
    "from sklearn.ensemble import GradientBoostingClassifier\n",
    "from sklearn.metrics import accuracy_score\n",
    "from sklearn.metrics import precision_score\n",
    "from sklearn.metrics import recall_score\n",
    "from sklearn import metrics   \n",
    "\n",
    "# Necessary imports for PCA\n",
    "from sklearn.decomposition import PCA\n",
    "\n",
    "# Load iPython-sql\n",
    "%load_ext sql"
   ]
  },
  {
   "cell_type": "markdown",
   "id": "b9991a8e",
   "metadata": {},
   "source": [
    "# 1. DATAFRAMES: Create and Clean"
   ]
  },
  {
   "cell_type": "markdown",
   "id": "49933317",
   "metadata": {},
   "source": [
    "## Airline Performance"
   ]
  },
  {
   "cell_type": "code",
   "execution_count": 2,
   "id": "946bfdd4",
   "metadata": {},
   "outputs": [],
   "source": [
    "# Enable display of all columns/rows for DataFrames\n",
    "\n",
    "pd.set_option('display.max_columns', None)\n",
    "pd.set_option('display.max_rows', None)"
   ]
  },
  {
   "cell_type": "code",
   "execution_count": 3,
   "id": "75c9f859",
   "metadata": {},
   "outputs": [],
   "source": [
    "# Create DataFrame\n",
    "\n",
    "# Load in all airline performance .csv files for 2019 and concat them into one large DataFrame\n",
    "airline_months = ['jan', 'feb', 'mar', 'apr', 'may', 'jun', 'jul', 'aug', 'sep', 'oct', 'nov', 'dec']\n",
    "dataframes_list = []\n",
    "\n",
    "for i in range(len(airline_months)):\n",
    "    temp_df = pd.read_csv('AirlineData/' + airline_months[i] + '.csv')\n",
    "    dataframes_list.append(temp_df)\n",
    "    \n",
    "airline_df = pd.concat(dataframes_list)"
   ]
  },
  {
   "cell_type": "code",
   "execution_count": 4,
   "id": "803229a0",
   "metadata": {},
   "outputs": [],
   "source": [
    "# Clean DataFrame\n",
    "\n",
    "# DL = Delta Airlines\n",
    "\n",
    "# ATL = Atlanta, Ga\n",
    "# DTW = Detroit, MI\n",
    "# LGA = LaGuardia, NY\n",
    "# MSP = Minneapolis/St. Paul MN\n",
    "# SLC = Salt Lake City, UT\n",
    "\n",
    "airlines_keep = 'DL'\n",
    "airports_keep = ['ATL', 'DTW', 'LGA', 'MSP', 'SLC']\n",
    "\n",
    "# filter for Delta Airlines and top 5 origin airports.\n",
    "airline_df = airline_df[airline_df['MKT_UNIQUE_CARRIER'] == airlines_keep]\n",
    "airline_df = airline_df[airline_df['ORIGIN'].isin(airports_keep)]\n",
    "\n",
    "# convert FL_DATE to datetime object\n",
    "airline_df['FL_DATE'] =  pd.to_datetime(airline_df['FL_DATE'])\n",
    "\n",
    "# extract scheduled departure hour and rename column\n",
    "airline_df['CRS_DEP_TIME'] = airline_df['CRS_DEP_TIME']//100\n",
    "airline_df = airline_df.rename(columns = {'CRS_DEP_TIME' : 'CRS_DEP_HR'})"
   ]
  },
  {
   "cell_type": "code",
   "execution_count": 5,
   "id": "f70af23b",
   "metadata": {
    "scrolled": true
   },
   "outputs": [
    {
     "data": {
      "text/html": [
       "<div>\n",
       "<style scoped>\n",
       "    .dataframe tbody tr th:only-of-type {\n",
       "        vertical-align: middle;\n",
       "    }\n",
       "\n",
       "    .dataframe tbody tr th {\n",
       "        vertical-align: top;\n",
       "    }\n",
       "\n",
       "    .dataframe thead th {\n",
       "        text-align: right;\n",
       "    }\n",
       "</style>\n",
       "<table border=\"1\" class=\"dataframe\">\n",
       "  <thead>\n",
       "    <tr style=\"text-align: right;\">\n",
       "      <th></th>\n",
       "      <th>DAY_OF_WEEK</th>\n",
       "      <th>FL_DATE</th>\n",
       "      <th>MKT_UNIQUE_CARRIER</th>\n",
       "      <th>MKT_CARRIER_FL_NUM</th>\n",
       "      <th>ORIGIN_AIRPORT_ID</th>\n",
       "      <th>ORIGIN</th>\n",
       "      <th>ORIGIN_CITY_NAME</th>\n",
       "      <th>DEST_AIRPORT_ID</th>\n",
       "      <th>DEST</th>\n",
       "      <th>DEST_CITY_NAME</th>\n",
       "      <th>CRS_DEP_HR</th>\n",
       "      <th>DEP_TIME</th>\n",
       "      <th>DEP_DEL15</th>\n",
       "      <th>DEP_DELAY_GROUP</th>\n",
       "      <th>DEP_TIME_BLK</th>\n",
       "      <th>CRS_ARR_TIME</th>\n",
       "      <th>ARR_TIME</th>\n",
       "      <th>ARR_DEL15</th>\n",
       "      <th>ARR_DELAY_GROUP</th>\n",
       "      <th>ARR_TIME_BLK</th>\n",
       "      <th>CRS_ELAPSED_TIME</th>\n",
       "      <th>ACTUAL_ELAPSED_TIME</th>\n",
       "      <th>AIR_TIME</th>\n",
       "      <th>FLIGHTS</th>\n",
       "      <th>DISTANCE</th>\n",
       "      <th>DISTANCE_GROUP</th>\n",
       "      <th>CARRIER_DELAY</th>\n",
       "      <th>WEATHER_DELAY</th>\n",
       "      <th>NAS_DELAY</th>\n",
       "      <th>SECURITY_DELAY</th>\n",
       "      <th>LATE_AIRCRAFT_DELAY</th>\n",
       "    </tr>\n",
       "  </thead>\n",
       "  <tbody>\n",
       "    <tr>\n",
       "      <th>3550</th>\n",
       "      <td>1</td>\n",
       "      <td>2019-01-14</td>\n",
       "      <td>DL</td>\n",
       "      <td>7360</td>\n",
       "      <td>14869</td>\n",
       "      <td>SLC</td>\n",
       "      <td>Salt Lake City, UT</td>\n",
       "      <td>13127</td>\n",
       "      <td>LWS</td>\n",
       "      <td>Lewiston, ID</td>\n",
       "      <td>11</td>\n",
       "      <td>1059.0</td>\n",
       "      <td>0.0</td>\n",
       "      <td>-1.0</td>\n",
       "      <td>1100-1159</td>\n",
       "      <td>1158</td>\n",
       "      <td>1153.0</td>\n",
       "      <td>0.0</td>\n",
       "      <td>-1.0</td>\n",
       "      <td>1100-1159</td>\n",
       "      <td>113.0</td>\n",
       "      <td>114.0</td>\n",
       "      <td>71.0</td>\n",
       "      <td>1</td>\n",
       "      <td>461</td>\n",
       "      <td>2</td>\n",
       "      <td>NaN</td>\n",
       "      <td>NaN</td>\n",
       "      <td>NaN</td>\n",
       "      <td>NaN</td>\n",
       "      <td>NaN</td>\n",
       "    </tr>\n",
       "    <tr>\n",
       "      <th>3552</th>\n",
       "      <td>1</td>\n",
       "      <td>2019-01-14</td>\n",
       "      <td>DL</td>\n",
       "      <td>7361</td>\n",
       "      <td>14869</td>\n",
       "      <td>SLC</td>\n",
       "      <td>Salt Lake City, UT</td>\n",
       "      <td>14113</td>\n",
       "      <td>PIH</td>\n",
       "      <td>Pocatello, ID</td>\n",
       "      <td>11</td>\n",
       "      <td>1159.0</td>\n",
       "      <td>1.0</td>\n",
       "      <td>3.0</td>\n",
       "      <td>1100-1159</td>\n",
       "      <td>1215</td>\n",
       "      <td>1242.0</td>\n",
       "      <td>1.0</td>\n",
       "      <td>1.0</td>\n",
       "      <td>1200-1259</td>\n",
       "      <td>65.0</td>\n",
       "      <td>43.0</td>\n",
       "      <td>28.0</td>\n",
       "      <td>1</td>\n",
       "      <td>150</td>\n",
       "      <td>1</td>\n",
       "      <td>27.0</td>\n",
       "      <td>0.0</td>\n",
       "      <td>0.0</td>\n",
       "      <td>0.0</td>\n",
       "      <td>0.0</td>\n",
       "    </tr>\n",
       "    <tr>\n",
       "      <th>3555</th>\n",
       "      <td>1</td>\n",
       "      <td>2019-01-14</td>\n",
       "      <td>DL</td>\n",
       "      <td>7363</td>\n",
       "      <td>13487</td>\n",
       "      <td>MSP</td>\n",
       "      <td>Minneapolis, MN</td>\n",
       "      <td>10141</td>\n",
       "      <td>ABR</td>\n",
       "      <td>Aberdeen, SD</td>\n",
       "      <td>11</td>\n",
       "      <td>1119.0</td>\n",
       "      <td>0.0</td>\n",
       "      <td>-1.0</td>\n",
       "      <td>1100-1159</td>\n",
       "      <td>1255</td>\n",
       "      <td>1255.0</td>\n",
       "      <td>0.0</td>\n",
       "      <td>0.0</td>\n",
       "      <td>1200-1259</td>\n",
       "      <td>91.0</td>\n",
       "      <td>96.0</td>\n",
       "      <td>43.0</td>\n",
       "      <td>1</td>\n",
       "      <td>257</td>\n",
       "      <td>2</td>\n",
       "      <td>NaN</td>\n",
       "      <td>NaN</td>\n",
       "      <td>NaN</td>\n",
       "      <td>NaN</td>\n",
       "      <td>NaN</td>\n",
       "    </tr>\n",
       "    <tr>\n",
       "      <th>3559</th>\n",
       "      <td>1</td>\n",
       "      <td>2019-01-14</td>\n",
       "      <td>DL</td>\n",
       "      <td>7367</td>\n",
       "      <td>11433</td>\n",
       "      <td>DTW</td>\n",
       "      <td>Detroit, MI</td>\n",
       "      <td>10333</td>\n",
       "      <td>APN</td>\n",
       "      <td>Alpena, MI</td>\n",
       "      <td>12</td>\n",
       "      <td>1202.0</td>\n",
       "      <td>0.0</td>\n",
       "      <td>-1.0</td>\n",
       "      <td>1200-1259</td>\n",
       "      <td>1335</td>\n",
       "      <td>1305.0</td>\n",
       "      <td>0.0</td>\n",
       "      <td>-2.0</td>\n",
       "      <td>1300-1359</td>\n",
       "      <td>81.0</td>\n",
       "      <td>63.0</td>\n",
       "      <td>43.0</td>\n",
       "      <td>1</td>\n",
       "      <td>198</td>\n",
       "      <td>1</td>\n",
       "      <td>NaN</td>\n",
       "      <td>NaN</td>\n",
       "      <td>NaN</td>\n",
       "      <td>NaN</td>\n",
       "      <td>NaN</td>\n",
       "    </tr>\n",
       "    <tr>\n",
       "      <th>3564</th>\n",
       "      <td>1</td>\n",
       "      <td>2019-01-14</td>\n",
       "      <td>DL</td>\n",
       "      <td>7371</td>\n",
       "      <td>13487</td>\n",
       "      <td>MSP</td>\n",
       "      <td>Minneapolis, MN</td>\n",
       "      <td>10631</td>\n",
       "      <td>BJI</td>\n",
       "      <td>Bemidji, MN</td>\n",
       "      <td>11</td>\n",
       "      <td>1127.0</td>\n",
       "      <td>0.0</td>\n",
       "      <td>-1.0</td>\n",
       "      <td>1100-1159</td>\n",
       "      <td>1254</td>\n",
       "      <td>1216.0</td>\n",
       "      <td>0.0</td>\n",
       "      <td>-2.0</td>\n",
       "      <td>1200-1259</td>\n",
       "      <td>84.0</td>\n",
       "      <td>49.0</td>\n",
       "      <td>35.0</td>\n",
       "      <td>1</td>\n",
       "      <td>199</td>\n",
       "      <td>1</td>\n",
       "      <td>NaN</td>\n",
       "      <td>NaN</td>\n",
       "      <td>NaN</td>\n",
       "      <td>NaN</td>\n",
       "      <td>NaN</td>\n",
       "    </tr>\n",
       "  </tbody>\n",
       "</table>\n",
       "</div>"
      ],
      "text/plain": [
       "      DAY_OF_WEEK    FL_DATE MKT_UNIQUE_CARRIER  MKT_CARRIER_FL_NUM  \\\n",
       "3550            1 2019-01-14                 DL                7360   \n",
       "3552            1 2019-01-14                 DL                7361   \n",
       "3555            1 2019-01-14                 DL                7363   \n",
       "3559            1 2019-01-14                 DL                7367   \n",
       "3564            1 2019-01-14                 DL                7371   \n",
       "\n",
       "      ORIGIN_AIRPORT_ID ORIGIN    ORIGIN_CITY_NAME  DEST_AIRPORT_ID DEST  \\\n",
       "3550              14869    SLC  Salt Lake City, UT            13127  LWS   \n",
       "3552              14869    SLC  Salt Lake City, UT            14113  PIH   \n",
       "3555              13487    MSP     Minneapolis, MN            10141  ABR   \n",
       "3559              11433    DTW         Detroit, MI            10333  APN   \n",
       "3564              13487    MSP     Minneapolis, MN            10631  BJI   \n",
       "\n",
       "     DEST_CITY_NAME  CRS_DEP_HR  DEP_TIME  DEP_DEL15  DEP_DELAY_GROUP  \\\n",
       "3550   Lewiston, ID          11    1059.0        0.0             -1.0   \n",
       "3552  Pocatello, ID          11    1159.0        1.0              3.0   \n",
       "3555   Aberdeen, SD          11    1119.0        0.0             -1.0   \n",
       "3559     Alpena, MI          12    1202.0        0.0             -1.0   \n",
       "3564    Bemidji, MN          11    1127.0        0.0             -1.0   \n",
       "\n",
       "     DEP_TIME_BLK  CRS_ARR_TIME  ARR_TIME  ARR_DEL15  ARR_DELAY_GROUP  \\\n",
       "3550    1100-1159          1158    1153.0        0.0             -1.0   \n",
       "3552    1100-1159          1215    1242.0        1.0              1.0   \n",
       "3555    1100-1159          1255    1255.0        0.0              0.0   \n",
       "3559    1200-1259          1335    1305.0        0.0             -2.0   \n",
       "3564    1100-1159          1254    1216.0        0.0             -2.0   \n",
       "\n",
       "     ARR_TIME_BLK  CRS_ELAPSED_TIME  ACTUAL_ELAPSED_TIME  AIR_TIME  FLIGHTS  \\\n",
       "3550    1100-1159             113.0                114.0      71.0        1   \n",
       "3552    1200-1259              65.0                 43.0      28.0        1   \n",
       "3555    1200-1259              91.0                 96.0      43.0        1   \n",
       "3559    1300-1359              81.0                 63.0      43.0        1   \n",
       "3564    1200-1259              84.0                 49.0      35.0        1   \n",
       "\n",
       "      DISTANCE  DISTANCE_GROUP  CARRIER_DELAY  WEATHER_DELAY  NAS_DELAY  \\\n",
       "3550       461               2            NaN            NaN        NaN   \n",
       "3552       150               1           27.0            0.0        0.0   \n",
       "3555       257               2            NaN            NaN        NaN   \n",
       "3559       198               1            NaN            NaN        NaN   \n",
       "3564       199               1            NaN            NaN        NaN   \n",
       "\n",
       "      SECURITY_DELAY  LATE_AIRCRAFT_DELAY  \n",
       "3550             NaN                  NaN  \n",
       "3552             0.0                  0.0  \n",
       "3555             NaN                  NaN  \n",
       "3559             NaN                  NaN  \n",
       "3564             NaN                  NaN  "
      ]
     },
     "execution_count": 5,
     "metadata": {},
     "output_type": "execute_result"
    }
   ],
   "source": [
    "airline_df.head()"
   ]
  },
  {
   "cell_type": "markdown",
   "id": "6b7c063f",
   "metadata": {},
   "source": [
    "\n",
    "## Weather"
   ]
  },
  {
   "cell_type": "code",
   "execution_count": 6,
   "id": "d49cf949",
   "metadata": {},
   "outputs": [],
   "source": [
    "# create DataFrame\n",
    "\n",
    "# specify columns to keep from raw input file\n",
    "weather_keep = ['STATION', 'DATE', 'REPORT_TYPE', 'HourlyAltimeterSetting', 'HourlyDewPointTemperature', \n",
    "                'HourlyDryBulbTemperature', 'HourlyPrecipitation', 'HourlyRelativeHumidity', \n",
    "                'HourlySeaLevelPressure', 'HourlyStationPressure', 'HourlyVisibility', 'HourlyWetBulbTemperature', \n",
    "                'HourlyWindDirection', 'HourlyWindGustSpeed', 'HourlyWindSpeed']\n",
    "\n",
    "wdf = pd.read_csv('AirlineData/weather.csv', usecols = weather_keep, low_memory = False)"
   ]
  },
  {
   "cell_type": "code",
   "execution_count": 7,
   "id": "50422aaa",
   "metadata": {},
   "outputs": [],
   "source": [
    "# clean DataFrame\n",
    "\n",
    "# some columns contain mixed data types (floats and floats with alpha characters. ie - 1.5, and 1.5s)\n",
    "# records with alpha characters in the columns listed below are outlier records and will be removed.\n",
    "spec_char_list = ['HourlyAltimeterSetting', 'HourlyDewPointTemperature', \n",
    "                'HourlyDryBulbTemperature', 'HourlyPrecipitation', \n",
    "                'HourlySeaLevelPressure', 'HourlyStationPressure', 'HourlyVisibility', \n",
    "                'HourlyWindDirection']\n",
    "\n",
    "for i in spec_char_list:\n",
    "    wdf = wdf[~wdf[i].str.contains(r'[sStTvV]', na = False)]\n",
    "\n",
    "    \n",
    "# filter for report type of 'FM-15'\n",
    "wdf = wdf[wdf['REPORT_TYPE'] == 'FM-15']\n",
    "\n",
    "# replace station ids with corresponding airport code.\n",
    "wdf = wdf.replace({'STATION' : { 72503014732 : 'LGA', 72219013874 : 'ATL', 72537094847 : 'DTW', \n",
    "                                72572024127 : 'SLC', 72658014922 : 'MSP'}})\n",
    "\n",
    "\n",
    "# separate date and time from 'DATE' column, format new date & time columns, extract hour from timestamp  \n",
    "# 'DATE' column example: 2019-01-01T00:08:00\n",
    "\n",
    "split_dt = wdf[\"DATE\"].str.split(\"T\", n = 1, expand = True)\n",
    "  \n",
    "# insert \"CAL_DATE\" and \"HOUR\" columns into wdf Data Frame\n",
    "wdf[\"FLIGHT_DATE\"]= split_dt[0]\n",
    "wdf[\"HOUR\"]= split_dt[1]\n",
    "  \n",
    "#  drop old \"DATE\" column\n",
    "wdf.drop(columns =[\"DATE\"], inplace = True)\n",
    "\n",
    "# convert \"CAL_DATE\" and \"HOUR\" to datetime objects\n",
    "# extract hour from scheduled flight time.\n",
    "\n",
    "wdf['FLIGHT_DATE'] =  pd.to_datetime(wdf['FLIGHT_DATE'])\n",
    "wdf['HOUR'] =  pd.to_datetime(wdf['HOUR'])\n",
    "wdf['HOUR'] = wdf['HOUR'].dt.hour"
   ]
  },
  {
   "cell_type": "code",
   "execution_count": 8,
   "id": "272bd98c",
   "metadata": {},
   "outputs": [
    {
     "data": {
      "text/html": [
       "<div>\n",
       "<style scoped>\n",
       "    .dataframe tbody tr th:only-of-type {\n",
       "        vertical-align: middle;\n",
       "    }\n",
       "\n",
       "    .dataframe tbody tr th {\n",
       "        vertical-align: top;\n",
       "    }\n",
       "\n",
       "    .dataframe thead th {\n",
       "        text-align: right;\n",
       "    }\n",
       "</style>\n",
       "<table border=\"1\" class=\"dataframe\">\n",
       "  <thead>\n",
       "    <tr style=\"text-align: right;\">\n",
       "      <th></th>\n",
       "      <th>STATION</th>\n",
       "      <th>REPORT_TYPE</th>\n",
       "      <th>HourlyAltimeterSetting</th>\n",
       "      <th>HourlyDewPointTemperature</th>\n",
       "      <th>HourlyDryBulbTemperature</th>\n",
       "      <th>HourlyPrecipitation</th>\n",
       "      <th>HourlyRelativeHumidity</th>\n",
       "      <th>HourlySeaLevelPressure</th>\n",
       "      <th>HourlyStationPressure</th>\n",
       "      <th>HourlyVisibility</th>\n",
       "      <th>HourlyWetBulbTemperature</th>\n",
       "      <th>HourlyWindDirection</th>\n",
       "      <th>HourlyWindGustSpeed</th>\n",
       "      <th>HourlyWindSpeed</th>\n",
       "      <th>FLIGHT_DATE</th>\n",
       "      <th>HOUR</th>\n",
       "    </tr>\n",
       "  </thead>\n",
       "  <tbody>\n",
       "    <tr>\n",
       "      <th>1</th>\n",
       "      <td>LGA</td>\n",
       "      <td>FM-15</td>\n",
       "      <td>29.75</td>\n",
       "      <td>46</td>\n",
       "      <td>47</td>\n",
       "      <td>0.06</td>\n",
       "      <td>97.0</td>\n",
       "      <td>29.75</td>\n",
       "      <td>29.72</td>\n",
       "      <td>4</td>\n",
       "      <td>47.0</td>\n",
       "      <td>0</td>\n",
       "      <td>NaN</td>\n",
       "      <td>0.0</td>\n",
       "      <td>2019-01-01</td>\n",
       "      <td>0</td>\n",
       "    </tr>\n",
       "    <tr>\n",
       "      <th>5</th>\n",
       "      <td>LGA</td>\n",
       "      <td>FM-15</td>\n",
       "      <td>29.68</td>\n",
       "      <td>48</td>\n",
       "      <td>50</td>\n",
       "      <td>0.02</td>\n",
       "      <td>93.0</td>\n",
       "      <td>29.68</td>\n",
       "      <td>29.65</td>\n",
       "      <td>4</td>\n",
       "      <td>49.0</td>\n",
       "      <td>200</td>\n",
       "      <td>NaN</td>\n",
       "      <td>5.0</td>\n",
       "      <td>2019-01-01</td>\n",
       "      <td>1</td>\n",
       "    </tr>\n",
       "    <tr>\n",
       "      <th>9</th>\n",
       "      <td>LGA</td>\n",
       "      <td>FM-15</td>\n",
       "      <td>29.62</td>\n",
       "      <td>52</td>\n",
       "      <td>54</td>\n",
       "      <td>0</td>\n",
       "      <td>93.0</td>\n",
       "      <td>29.62</td>\n",
       "      <td>29.59</td>\n",
       "      <td>3</td>\n",
       "      <td>53.0</td>\n",
       "      <td>250</td>\n",
       "      <td>NaN</td>\n",
       "      <td>15.0</td>\n",
       "      <td>2019-01-01</td>\n",
       "      <td>3</td>\n",
       "    </tr>\n",
       "    <tr>\n",
       "      <th>12</th>\n",
       "      <td>LGA</td>\n",
       "      <td>FM-15</td>\n",
       "      <td>29.59</td>\n",
       "      <td>52</td>\n",
       "      <td>55</td>\n",
       "      <td>0</td>\n",
       "      <td>90.0</td>\n",
       "      <td>29.59</td>\n",
       "      <td>29.56</td>\n",
       "      <td>5</td>\n",
       "      <td>53.0</td>\n",
       "      <td>250</td>\n",
       "      <td>25.0</td>\n",
       "      <td>15.0</td>\n",
       "      <td>2019-01-01</td>\n",
       "      <td>4</td>\n",
       "    </tr>\n",
       "    <tr>\n",
       "      <th>15</th>\n",
       "      <td>LGA</td>\n",
       "      <td>FM-15</td>\n",
       "      <td>29.62</td>\n",
       "      <td>53</td>\n",
       "      <td>57</td>\n",
       "      <td>0</td>\n",
       "      <td>87.0</td>\n",
       "      <td>29.62</td>\n",
       "      <td>29.59</td>\n",
       "      <td>10</td>\n",
       "      <td>55.0</td>\n",
       "      <td>260</td>\n",
       "      <td>NaN</td>\n",
       "      <td>11.0</td>\n",
       "      <td>2019-01-01</td>\n",
       "      <td>5</td>\n",
       "    </tr>\n",
       "  </tbody>\n",
       "</table>\n",
       "</div>"
      ],
      "text/plain": [
       "   STATION REPORT_TYPE HourlyAltimeterSetting HourlyDewPointTemperature  \\\n",
       "1      LGA       FM-15                  29.75                        46   \n",
       "5      LGA       FM-15                  29.68                        48   \n",
       "9      LGA       FM-15                  29.62                        52   \n",
       "12     LGA       FM-15                  29.59                        52   \n",
       "15     LGA       FM-15                  29.62                        53   \n",
       "\n",
       "   HourlyDryBulbTemperature HourlyPrecipitation  HourlyRelativeHumidity  \\\n",
       "1                        47                0.06                    97.0   \n",
       "5                        50                0.02                    93.0   \n",
       "9                        54                   0                    93.0   \n",
       "12                       55                   0                    90.0   \n",
       "15                       57                   0                    87.0   \n",
       "\n",
       "   HourlySeaLevelPressure HourlyStationPressure HourlyVisibility  \\\n",
       "1                   29.75                 29.72                4   \n",
       "5                   29.68                 29.65                4   \n",
       "9                   29.62                 29.59                3   \n",
       "12                  29.59                 29.56                5   \n",
       "15                  29.62                 29.59               10   \n",
       "\n",
       "    HourlyWetBulbTemperature HourlyWindDirection  HourlyWindGustSpeed  \\\n",
       "1                       47.0                   0                  NaN   \n",
       "5                       49.0                 200                  NaN   \n",
       "9                       53.0                 250                  NaN   \n",
       "12                      53.0                 250                 25.0   \n",
       "15                      55.0                 260                  NaN   \n",
       "\n",
       "    HourlyWindSpeed FLIGHT_DATE  HOUR  \n",
       "1               0.0  2019-01-01     0  \n",
       "5               5.0  2019-01-01     1  \n",
       "9              15.0  2019-01-01     3  \n",
       "12             15.0  2019-01-01     4  \n",
       "15             11.0  2019-01-01     5  "
      ]
     },
     "execution_count": 8,
     "metadata": {},
     "output_type": "execute_result"
    }
   ],
   "source": [
    "wdf.head()"
   ]
  },
  {
   "cell_type": "markdown",
   "id": "32616cdf",
   "metadata": {},
   "source": [
    "\n",
    "\n",
    "# 2. DATABASE"
   ]
  },
  {
   "cell_type": "markdown",
   "id": "6a01dbcc",
   "metadata": {},
   "source": [
    "## Export Cleaned DataFrames to .CSV Files for Database Creation"
   ]
  },
  {
   "cell_type": "code",
   "execution_count": 9,
   "id": "45be1d57",
   "metadata": {},
   "outputs": [],
   "source": [
    "# Export DataFrames to .CSV files to be used in database creation\n",
    "# Import DataFrames into a PostgreSQL database, with each DataFrame being its own table.\n",
    "\n",
    "airline_df.to_csv(r'AirlineData/Cleaned_Airline_Performance_Data.csv', index = False)\n",
    "wdf.to_csv(r'AirlineData\\Cleaned_Weather_Data.csv', index = False)"
   ]
  },
  {
   "cell_type": "markdown",
   "id": "ee286607",
   "metadata": {},
   "source": [
    "## Connect to Database"
   ]
  },
  {
   "cell_type": "code",
   "execution_count": 10,
   "id": "e2ec7842",
   "metadata": {},
   "outputs": [],
   "source": [
    "# Connect to database w/ environmental variables\n",
    "load_dotenv()\n",
    "user = os.getenv('SQL_USER')\n",
    "password = os.getenv('SQL_PASSWORD')\n",
    "host = os.getenv('SQL_HOST')\n",
    "db = os.getenv('SQL_DB')\n",
    "\n",
    "conn_text = 'postgresql://{}:{}@{}/{}'.format(user,password,host,db)\n",
    "\n",
    "%sql $conn_text\n",
    "engine = create_engine(conn_text)"
   ]
  },
  {
   "cell_type": "markdown",
   "id": "b0d2a429",
   "metadata": {},
   "source": [
    "## Query Database to Obtain Finalized Dataset"
   ]
  },
  {
   "cell_type": "code",
   "execution_count": 11,
   "id": "7523fa97",
   "metadata": {},
   "outputs": [],
   "source": [
    "# Query database for matching flight and weather records. Store results in a new DataFrame.\n",
    "# Project scope was limited to ~100,000 records, as indicated by the limit quantity.\n",
    "\n",
    "q = '''\n",
    "SELECT setseed(0.5);\n",
    "SELECT * FROM flights\n",
    "INNER JOIN weather \n",
    "ON flights.origin = weather.airport\n",
    "    AND flights.fl_date = weather.flight_date \n",
    "    AND flights.crs_dep_hr = weather.hour     \n",
    "ORDER BY RANDOM()  \n",
    "LIMIT 105000\n",
    "'''\n",
    "\n",
    "df = pd.read_sql (q, engine)"
   ]
  },
  {
   "cell_type": "code",
   "execution_count": 12,
   "id": "59195a9e",
   "metadata": {
    "scrolled": true
   },
   "outputs": [
    {
     "data": {
      "text/html": [
       "<div>\n",
       "<style scoped>\n",
       "    .dataframe tbody tr th:only-of-type {\n",
       "        vertical-align: middle;\n",
       "    }\n",
       "\n",
       "    .dataframe tbody tr th {\n",
       "        vertical-align: top;\n",
       "    }\n",
       "\n",
       "    .dataframe thead th {\n",
       "        text-align: right;\n",
       "    }\n",
       "</style>\n",
       "<table border=\"1\" class=\"dataframe\">\n",
       "  <thead>\n",
       "    <tr style=\"text-align: right;\">\n",
       "      <th></th>\n",
       "      <th>day_of_week</th>\n",
       "      <th>fl_date</th>\n",
       "      <th>mkt_unique_carrier</th>\n",
       "      <th>mkt_carrier_fl_num</th>\n",
       "      <th>origin_airport_id</th>\n",
       "      <th>origin</th>\n",
       "      <th>origin_city_name</th>\n",
       "      <th>dest_airport_id</th>\n",
       "      <th>dest</th>\n",
       "      <th>dest_city_name</th>\n",
       "      <th>crs_dep_time</th>\n",
       "      <th>dep_time</th>\n",
       "      <th>dep_del15</th>\n",
       "      <th>dep_delay_group</th>\n",
       "      <th>dep_time_blk</th>\n",
       "      <th>crs_arr_time</th>\n",
       "      <th>arr_time</th>\n",
       "      <th>arr_del15</th>\n",
       "      <th>arr_delay_group</th>\n",
       "      <th>arr_time_blk</th>\n",
       "      <th>crs_elapsed_time</th>\n",
       "      <th>actual_elapsed_time</th>\n",
       "      <th>air_time</th>\n",
       "      <th>flights</th>\n",
       "      <th>distance</th>\n",
       "      <th>distance_group</th>\n",
       "      <th>carrier_delay</th>\n",
       "      <th>weather_delay</th>\n",
       "      <th>nas_delay</th>\n",
       "      <th>security_delay</th>\n",
       "      <th>late_aircraft_delay</th>\n",
       "      <th>crs_dep_hr</th>\n",
       "      <th>airport</th>\n",
       "      <th>station</th>\n",
       "      <th>flight_date</th>\n",
       "      <th>time</th>\n",
       "      <th>hour</th>\n",
       "      <th>report_type</th>\n",
       "      <th>hourlyaltimetersetting</th>\n",
       "      <th>hourlydewpointtemperature</th>\n",
       "      <th>hourlydrybulbtemperature</th>\n",
       "      <th>hourlyprecipitation</th>\n",
       "      <th>hourlyrelativehumidity</th>\n",
       "      <th>hourlysealevelpressure</th>\n",
       "      <th>hourlystationpressure</th>\n",
       "      <th>hourlyvisibility</th>\n",
       "      <th>hourlywetbulbtemperature</th>\n",
       "      <th>hourlywinddirection</th>\n",
       "      <th>hourlywindgustspeed</th>\n",
       "      <th>hourlywindspeed</th>\n",
       "    </tr>\n",
       "  </thead>\n",
       "  <tbody>\n",
       "    <tr>\n",
       "      <th>0</th>\n",
       "      <td>7</td>\n",
       "      <td>2019-05-05</td>\n",
       "      <td>DL</td>\n",
       "      <td>3471</td>\n",
       "      <td>10397</td>\n",
       "      <td>ATL</td>\n",
       "      <td>Atlanta, GA</td>\n",
       "      <td>15249</td>\n",
       "      <td>TLH</td>\n",
       "      <td>Tallahassee, FL</td>\n",
       "      <td>1213</td>\n",
       "      <td>1207.0</td>\n",
       "      <td>0.0</td>\n",
       "      <td>-1.0</td>\n",
       "      <td>1200-1259</td>\n",
       "      <td>1317</td>\n",
       "      <td>1302.0</td>\n",
       "      <td>0.0</td>\n",
       "      <td>-1.0</td>\n",
       "      <td>1300-1359</td>\n",
       "      <td>64</td>\n",
       "      <td>55.0</td>\n",
       "      <td>40.0</td>\n",
       "      <td>1</td>\n",
       "      <td>223</td>\n",
       "      <td>1</td>\n",
       "      <td>NaN</td>\n",
       "      <td>NaN</td>\n",
       "      <td>NaN</td>\n",
       "      <td>NaN</td>\n",
       "      <td>NaN</td>\n",
       "      <td>12</td>\n",
       "      <td>ATL</td>\n",
       "      <td>72219013874</td>\n",
       "      <td>2019-05-05</td>\n",
       "      <td>12:52:00</td>\n",
       "      <td>12</td>\n",
       "      <td>FM-15</td>\n",
       "      <td>29.82</td>\n",
       "      <td>63.0</td>\n",
       "      <td>77.0</td>\n",
       "      <td>0.0</td>\n",
       "      <td>62.0</td>\n",
       "      <td>29.80</td>\n",
       "      <td>28.73</td>\n",
       "      <td>10.0</td>\n",
       "      <td>68.0</td>\n",
       "      <td>280.0</td>\n",
       "      <td>18.0</td>\n",
       "      <td>13.0</td>\n",
       "    </tr>\n",
       "    <tr>\n",
       "      <th>1</th>\n",
       "      <td>5</td>\n",
       "      <td>2019-08-09</td>\n",
       "      <td>DL</td>\n",
       "      <td>1200</td>\n",
       "      <td>10397</td>\n",
       "      <td>ATL</td>\n",
       "      <td>Atlanta, GA</td>\n",
       "      <td>10721</td>\n",
       "      <td>BOS</td>\n",
       "      <td>Boston, MA</td>\n",
       "      <td>1130</td>\n",
       "      <td>1133.0</td>\n",
       "      <td>0.0</td>\n",
       "      <td>0.0</td>\n",
       "      <td>1100-1159</td>\n",
       "      <td>1406</td>\n",
       "      <td>1358.0</td>\n",
       "      <td>0.0</td>\n",
       "      <td>-1.0</td>\n",
       "      <td>1400-1459</td>\n",
       "      <td>156</td>\n",
       "      <td>145.0</td>\n",
       "      <td>122.0</td>\n",
       "      <td>1</td>\n",
       "      <td>946</td>\n",
       "      <td>4</td>\n",
       "      <td>NaN</td>\n",
       "      <td>NaN</td>\n",
       "      <td>NaN</td>\n",
       "      <td>NaN</td>\n",
       "      <td>NaN</td>\n",
       "      <td>11</td>\n",
       "      <td>ATL</td>\n",
       "      <td>72219013874</td>\n",
       "      <td>2019-08-09</td>\n",
       "      <td>11:52:00</td>\n",
       "      <td>11</td>\n",
       "      <td>FM-15</td>\n",
       "      <td>30.00</td>\n",
       "      <td>67.0</td>\n",
       "      <td>90.0</td>\n",
       "      <td>0.0</td>\n",
       "      <td>47.0</td>\n",
       "      <td>29.96</td>\n",
       "      <td>28.90</td>\n",
       "      <td>10.0</td>\n",
       "      <td>74.0</td>\n",
       "      <td>310.0</td>\n",
       "      <td>20.0</td>\n",
       "      <td>13.0</td>\n",
       "    </tr>\n",
       "    <tr>\n",
       "      <th>2</th>\n",
       "      <td>4</td>\n",
       "      <td>2019-07-11</td>\n",
       "      <td>DL</td>\n",
       "      <td>644</td>\n",
       "      <td>10397</td>\n",
       "      <td>ATL</td>\n",
       "      <td>Atlanta, GA</td>\n",
       "      <td>10994</td>\n",
       "      <td>CHS</td>\n",
       "      <td>Charleston, SC</td>\n",
       "      <td>810</td>\n",
       "      <td>807.0</td>\n",
       "      <td>0.0</td>\n",
       "      <td>-1.0</td>\n",
       "      <td>0800-0859</td>\n",
       "      <td>922</td>\n",
       "      <td>906.0</td>\n",
       "      <td>0.0</td>\n",
       "      <td>-2.0</td>\n",
       "      <td>0900-0959</td>\n",
       "      <td>72</td>\n",
       "      <td>59.0</td>\n",
       "      <td>42.0</td>\n",
       "      <td>1</td>\n",
       "      <td>259</td>\n",
       "      <td>2</td>\n",
       "      <td>NaN</td>\n",
       "      <td>NaN</td>\n",
       "      <td>NaN</td>\n",
       "      <td>NaN</td>\n",
       "      <td>NaN</td>\n",
       "      <td>8</td>\n",
       "      <td>ATL</td>\n",
       "      <td>72219013874</td>\n",
       "      <td>2019-07-11</td>\n",
       "      <td>8:52:00</td>\n",
       "      <td>8</td>\n",
       "      <td>FM-15</td>\n",
       "      <td>30.01</td>\n",
       "      <td>73.0</td>\n",
       "      <td>80.0</td>\n",
       "      <td>0.0</td>\n",
       "      <td>79.0</td>\n",
       "      <td>29.97</td>\n",
       "      <td>28.91</td>\n",
       "      <td>10.0</td>\n",
       "      <td>75.0</td>\n",
       "      <td>200.0</td>\n",
       "      <td>NaN</td>\n",
       "      <td>6.0</td>\n",
       "    </tr>\n",
       "    <tr>\n",
       "      <th>3</th>\n",
       "      <td>2</td>\n",
       "      <td>2019-06-11</td>\n",
       "      <td>DL</td>\n",
       "      <td>1626</td>\n",
       "      <td>14869</td>\n",
       "      <td>SLC</td>\n",
       "      <td>Salt Lake City, UT</td>\n",
       "      <td>13198</td>\n",
       "      <td>MCI</td>\n",
       "      <td>Kansas City, MO</td>\n",
       "      <td>944</td>\n",
       "      <td>937.0</td>\n",
       "      <td>0.0</td>\n",
       "      <td>-1.0</td>\n",
       "      <td>0900-0959</td>\n",
       "      <td>1308</td>\n",
       "      <td>1253.0</td>\n",
       "      <td>0.0</td>\n",
       "      <td>-1.0</td>\n",
       "      <td>1300-1359</td>\n",
       "      <td>144</td>\n",
       "      <td>136.0</td>\n",
       "      <td>114.0</td>\n",
       "      <td>1</td>\n",
       "      <td>920</td>\n",
       "      <td>4</td>\n",
       "      <td>NaN</td>\n",
       "      <td>NaN</td>\n",
       "      <td>NaN</td>\n",
       "      <td>NaN</td>\n",
       "      <td>NaN</td>\n",
       "      <td>9</td>\n",
       "      <td>SLC</td>\n",
       "      <td>72572024127</td>\n",
       "      <td>2019-06-11</td>\n",
       "      <td>9:54:00</td>\n",
       "      <td>9</td>\n",
       "      <td>FM-15</td>\n",
       "      <td>30.29</td>\n",
       "      <td>38.0</td>\n",
       "      <td>75.0</td>\n",
       "      <td>0.0</td>\n",
       "      <td>26.0</td>\n",
       "      <td>30.15</td>\n",
       "      <td>25.95</td>\n",
       "      <td>10.0</td>\n",
       "      <td>55.0</td>\n",
       "      <td>310.0</td>\n",
       "      <td>NaN</td>\n",
       "      <td>5.0</td>\n",
       "    </tr>\n",
       "    <tr>\n",
       "      <th>4</th>\n",
       "      <td>6</td>\n",
       "      <td>2019-04-06</td>\n",
       "      <td>DL</td>\n",
       "      <td>1481</td>\n",
       "      <td>10397</td>\n",
       "      <td>ATL</td>\n",
       "      <td>Atlanta, GA</td>\n",
       "      <td>13577</td>\n",
       "      <td>MYR</td>\n",
       "      <td>Myrtle Beach, SC</td>\n",
       "      <td>1558</td>\n",
       "      <td>1556.0</td>\n",
       "      <td>0.0</td>\n",
       "      <td>-1.0</td>\n",
       "      <td>1500-1559</td>\n",
       "      <td>1706</td>\n",
       "      <td>1654.0</td>\n",
       "      <td>0.0</td>\n",
       "      <td>-1.0</td>\n",
       "      <td>1700-1759</td>\n",
       "      <td>68</td>\n",
       "      <td>58.0</td>\n",
       "      <td>44.0</td>\n",
       "      <td>1</td>\n",
       "      <td>317</td>\n",
       "      <td>2</td>\n",
       "      <td>NaN</td>\n",
       "      <td>NaN</td>\n",
       "      <td>NaN</td>\n",
       "      <td>NaN</td>\n",
       "      <td>NaN</td>\n",
       "      <td>15</td>\n",
       "      <td>ATL</td>\n",
       "      <td>72219013874</td>\n",
       "      <td>2019-04-06</td>\n",
       "      <td>15:52:00</td>\n",
       "      <td>15</td>\n",
       "      <td>FM-15</td>\n",
       "      <td>30.11</td>\n",
       "      <td>60.0</td>\n",
       "      <td>71.0</td>\n",
       "      <td>0.0</td>\n",
       "      <td>68.0</td>\n",
       "      <td>30.10</td>\n",
       "      <td>29.01</td>\n",
       "      <td>9.0</td>\n",
       "      <td>64.0</td>\n",
       "      <td>130.0</td>\n",
       "      <td>NaN</td>\n",
       "      <td>7.0</td>\n",
       "    </tr>\n",
       "  </tbody>\n",
       "</table>\n",
       "</div>"
      ],
      "text/plain": [
       "   day_of_week     fl_date mkt_unique_carrier  mkt_carrier_fl_num  \\\n",
       "0            7  2019-05-05                 DL                3471   \n",
       "1            5  2019-08-09                 DL                1200   \n",
       "2            4  2019-07-11                 DL                 644   \n",
       "3            2  2019-06-11                 DL                1626   \n",
       "4            6  2019-04-06                 DL                1481   \n",
       "\n",
       "   origin_airport_id origin    origin_city_name  dest_airport_id dest  \\\n",
       "0              10397    ATL         Atlanta, GA            15249  TLH   \n",
       "1              10397    ATL         Atlanta, GA            10721  BOS   \n",
       "2              10397    ATL         Atlanta, GA            10994  CHS   \n",
       "3              14869    SLC  Salt Lake City, UT            13198  MCI   \n",
       "4              10397    ATL         Atlanta, GA            13577  MYR   \n",
       "\n",
       "     dest_city_name  crs_dep_time  dep_time  dep_del15  dep_delay_group  \\\n",
       "0   Tallahassee, FL          1213    1207.0        0.0             -1.0   \n",
       "1        Boston, MA          1130    1133.0        0.0              0.0   \n",
       "2    Charleston, SC           810     807.0        0.0             -1.0   \n",
       "3   Kansas City, MO           944     937.0        0.0             -1.0   \n",
       "4  Myrtle Beach, SC          1558    1556.0        0.0             -1.0   \n",
       "\n",
       "  dep_time_blk  crs_arr_time  arr_time  arr_del15  arr_delay_group  \\\n",
       "0    1200-1259          1317    1302.0        0.0             -1.0   \n",
       "1    1100-1159          1406    1358.0        0.0             -1.0   \n",
       "2    0800-0859           922     906.0        0.0             -2.0   \n",
       "3    0900-0959          1308    1253.0        0.0             -1.0   \n",
       "4    1500-1559          1706    1654.0        0.0             -1.0   \n",
       "\n",
       "  arr_time_blk  crs_elapsed_time  actual_elapsed_time  air_time  flights  \\\n",
       "0    1300-1359                64                 55.0      40.0        1   \n",
       "1    1400-1459               156                145.0     122.0        1   \n",
       "2    0900-0959                72                 59.0      42.0        1   \n",
       "3    1300-1359               144                136.0     114.0        1   \n",
       "4    1700-1759                68                 58.0      44.0        1   \n",
       "\n",
       "   distance  distance_group  carrier_delay  weather_delay  nas_delay  \\\n",
       "0       223               1            NaN            NaN        NaN   \n",
       "1       946               4            NaN            NaN        NaN   \n",
       "2       259               2            NaN            NaN        NaN   \n",
       "3       920               4            NaN            NaN        NaN   \n",
       "4       317               2            NaN            NaN        NaN   \n",
       "\n",
       "   security_delay  late_aircraft_delay  crs_dep_hr airport      station  \\\n",
       "0             NaN                  NaN          12     ATL  72219013874   \n",
       "1             NaN                  NaN          11     ATL  72219013874   \n",
       "2             NaN                  NaN           8     ATL  72219013874   \n",
       "3             NaN                  NaN           9     SLC  72572024127   \n",
       "4             NaN                  NaN          15     ATL  72219013874   \n",
       "\n",
       "  flight_date      time  hour report_type  hourlyaltimetersetting  \\\n",
       "0  2019-05-05  12:52:00    12       FM-15                   29.82   \n",
       "1  2019-08-09  11:52:00    11       FM-15                   30.00   \n",
       "2  2019-07-11   8:52:00     8       FM-15                   30.01   \n",
       "3  2019-06-11   9:54:00     9       FM-15                   30.29   \n",
       "4  2019-04-06  15:52:00    15       FM-15                   30.11   \n",
       "\n",
       "   hourlydewpointtemperature  hourlydrybulbtemperature  hourlyprecipitation  \\\n",
       "0                       63.0                      77.0                  0.0   \n",
       "1                       67.0                      90.0                  0.0   \n",
       "2                       73.0                      80.0                  0.0   \n",
       "3                       38.0                      75.0                  0.0   \n",
       "4                       60.0                      71.0                  0.0   \n",
       "\n",
       "   hourlyrelativehumidity  hourlysealevelpressure  hourlystationpressure  \\\n",
       "0                    62.0                   29.80                  28.73   \n",
       "1                    47.0                   29.96                  28.90   \n",
       "2                    79.0                   29.97                  28.91   \n",
       "3                    26.0                   30.15                  25.95   \n",
       "4                    68.0                   30.10                  29.01   \n",
       "\n",
       "   hourlyvisibility  hourlywetbulbtemperature  hourlywinddirection  \\\n",
       "0              10.0                      68.0                280.0   \n",
       "1              10.0                      74.0                310.0   \n",
       "2              10.0                      75.0                200.0   \n",
       "3              10.0                      55.0                310.0   \n",
       "4               9.0                      64.0                130.0   \n",
       "\n",
       "   hourlywindgustspeed  hourlywindspeed  \n",
       "0                 18.0             13.0  \n",
       "1                 20.0             13.0  \n",
       "2                  NaN              6.0  \n",
       "3                  NaN              5.0  \n",
       "4                  NaN              7.0  "
      ]
     },
     "execution_count": 12,
     "metadata": {},
     "output_type": "execute_result"
    }
   ],
   "source": [
    "df.head()"
   ]
  },
  {
   "cell_type": "markdown",
   "id": "c962ff5e",
   "metadata": {},
   "source": [
    "## Address NULL's and 0's"
   ]
  },
  {
   "cell_type": "code",
   "execution_count": 13,
   "id": "c920c390",
   "metadata": {},
   "outputs": [
    {
     "data": {
      "text/html": [
       "<div>\n",
       "<style scoped>\n",
       "    .dataframe tbody tr th:only-of-type {\n",
       "        vertical-align: middle;\n",
       "    }\n",
       "\n",
       "    .dataframe tbody tr th {\n",
       "        vertical-align: top;\n",
       "    }\n",
       "\n",
       "    .dataframe thead th {\n",
       "        text-align: right;\n",
       "    }\n",
       "</style>\n",
       "<table border=\"1\" class=\"dataframe\">\n",
       "  <thead>\n",
       "    <tr style=\"text-align: right;\">\n",
       "      <th></th>\n",
       "      <th>NULL</th>\n",
       "      <th>zeros</th>\n",
       "    </tr>\n",
       "  </thead>\n",
       "  <tbody>\n",
       "    <tr>\n",
       "      <th>dep_time</th>\n",
       "      <td>521</td>\n",
       "      <td>0</td>\n",
       "    </tr>\n",
       "    <tr>\n",
       "      <th>dep_del15</th>\n",
       "      <td>521</td>\n",
       "      <td>87943</td>\n",
       "    </tr>\n",
       "    <tr>\n",
       "      <th>dep_delay_group</th>\n",
       "      <td>521</td>\n",
       "      <td>23039</td>\n",
       "    </tr>\n",
       "    <tr>\n",
       "      <th>arr_time</th>\n",
       "      <td>579</td>\n",
       "      <td>0</td>\n",
       "    </tr>\n",
       "    <tr>\n",
       "      <th>arr_del15</th>\n",
       "      <td>838</td>\n",
       "      <td>87656</td>\n",
       "    </tr>\n",
       "    <tr>\n",
       "      <th>arr_delay_group</th>\n",
       "      <td>838</td>\n",
       "      <td>16096</td>\n",
       "    </tr>\n",
       "    <tr>\n",
       "      <th>actual_elapsed_time</th>\n",
       "      <td>838</td>\n",
       "      <td>0</td>\n",
       "    </tr>\n",
       "    <tr>\n",
       "      <th>air_time</th>\n",
       "      <td>838</td>\n",
       "      <td>0</td>\n",
       "    </tr>\n",
       "    <tr>\n",
       "      <th>carrier_delay</th>\n",
       "      <td>88494</td>\n",
       "      <td>7867</td>\n",
       "    </tr>\n",
       "    <tr>\n",
       "      <th>weather_delay</th>\n",
       "      <td>88494</td>\n",
       "      <td>15328</td>\n",
       "    </tr>\n",
       "    <tr>\n",
       "      <th>nas_delay</th>\n",
       "      <td>88494</td>\n",
       "      <td>7991</td>\n",
       "    </tr>\n",
       "    <tr>\n",
       "      <th>security_delay</th>\n",
       "      <td>88494</td>\n",
       "      <td>16473</td>\n",
       "    </tr>\n",
       "    <tr>\n",
       "      <th>late_aircraft_delay</th>\n",
       "      <td>88494</td>\n",
       "      <td>9520</td>\n",
       "    </tr>\n",
       "    <tr>\n",
       "      <th>hourlyaltimetersetting</th>\n",
       "      <td>18</td>\n",
       "      <td>0</td>\n",
       "    </tr>\n",
       "    <tr>\n",
       "      <th>hourlydewpointtemperature</th>\n",
       "      <td>22</td>\n",
       "      <td>122</td>\n",
       "    </tr>\n",
       "    <tr>\n",
       "      <th>hourlydrybulbtemperature</th>\n",
       "      <td>8</td>\n",
       "      <td>56</td>\n",
       "    </tr>\n",
       "    <tr>\n",
       "      <th>hourlyprecipitation</th>\n",
       "      <td>1583</td>\n",
       "      <td>96525</td>\n",
       "    </tr>\n",
       "    <tr>\n",
       "      <th>hourlyrelativehumidity</th>\n",
       "      <td>22</td>\n",
       "      <td>0</td>\n",
       "    </tr>\n",
       "    <tr>\n",
       "      <th>hourlysealevelpressure</th>\n",
       "      <td>100</td>\n",
       "      <td>0</td>\n",
       "    </tr>\n",
       "    <tr>\n",
       "      <th>hourlystationpressure</th>\n",
       "      <td>1205</td>\n",
       "      <td>0</td>\n",
       "    </tr>\n",
       "    <tr>\n",
       "      <th>hourlyvisibility</th>\n",
       "      <td>8</td>\n",
       "      <td>7</td>\n",
       "    </tr>\n",
       "    <tr>\n",
       "      <th>hourlywetbulbtemperature</th>\n",
       "      <td>1219</td>\n",
       "      <td>58</td>\n",
       "    </tr>\n",
       "    <tr>\n",
       "      <th>hourlywinddirection</th>\n",
       "      <td>42</td>\n",
       "      <td>10969</td>\n",
       "    </tr>\n",
       "    <tr>\n",
       "      <th>hourlywindgustspeed</th>\n",
       "      <td>88864</td>\n",
       "      <td>0</td>\n",
       "    </tr>\n",
       "    <tr>\n",
       "      <th>hourlywindspeed</th>\n",
       "      <td>32</td>\n",
       "      <td>5956</td>\n",
       "    </tr>\n",
       "  </tbody>\n",
       "</table>\n",
       "</div>"
      ],
      "text/plain": [
       "                            NULL  zeros\n",
       "dep_time                     521      0\n",
       "dep_del15                    521  87943\n",
       "dep_delay_group              521  23039\n",
       "arr_time                     579      0\n",
       "arr_del15                    838  87656\n",
       "arr_delay_group              838  16096\n",
       "actual_elapsed_time          838      0\n",
       "air_time                     838      0\n",
       "carrier_delay              88494   7867\n",
       "weather_delay              88494  15328\n",
       "nas_delay                  88494   7991\n",
       "security_delay             88494  16473\n",
       "late_aircraft_delay        88494   9520\n",
       "hourlyaltimetersetting        18      0\n",
       "hourlydewpointtemperature     22    122\n",
       "hourlydrybulbtemperature       8     56\n",
       "hourlyprecipitation         1583  96525\n",
       "hourlyrelativehumidity        22      0\n",
       "hourlysealevelpressure       100      0\n",
       "hourlystationpressure       1205      0\n",
       "hourlyvisibility               8      7\n",
       "hourlywetbulbtemperature    1219     58\n",
       "hourlywinddirection           42  10969\n",
       "hourlywindgustspeed        88864      0\n",
       "hourlywindspeed               32   5956"
      ]
     },
     "execution_count": 13,
     "metadata": {},
     "output_type": "execute_result"
    }
   ],
   "source": [
    "# Print out list of columns with NULL and \"0\" values\n",
    "\n",
    "null_values = df.isna()\n",
    "null_columns = null_values.any()\n",
    "cols_with_null = df.columns[null_columns].tolist()\n",
    "\n",
    "df_missing = pd.DataFrame({'NULL': df[cols_with_null].isnull().sum(),\n",
    "                    'zeros': (df[cols_with_null] == 0).sum()})\n",
    "df_missing"
   ]
  },
  {
   "cell_type": "code",
   "execution_count": 14,
   "id": "cabed0a8",
   "metadata": {},
   "outputs": [],
   "source": [
    "# Records with NULL values will be removed. Exception: records with NULL values in the columns listed in keep_null_cols. \n",
    "# NULL values in these columns mean \"no dealys\" or \"no wind gusts\", respectively.\n",
    "keep_null_cols= ['carrier_delay', 'weather_delay', 'nas_delay', 'security_delay', 'late_aircraft_delay', 'hourlywindgustspeed']\n",
    "\n",
    "# Remove keep_null_cols from the list of columns containing NULL values\n",
    "for i in keep_null_cols:\n",
    "    cols_with_null.remove(i)\n",
    "    \n",
    "# Remove records with columns containing NULL\n",
    "for i in cols_with_null:\n",
    "    df = df[df[i].notnull()] \n",
    "    \n",
    "# replace all remaining NULL values with zero's\n",
    "df = df.fillna(0)"
   ]
  },
  {
   "cell_type": "markdown",
   "id": "61e77c47",
   "metadata": {},
   "source": [
    "# 3. EXPLORATORY DATA ANALYSIS"
   ]
  },
  {
   "cell_type": "code",
   "execution_count": 15,
   "id": "71a75405",
   "metadata": {},
   "outputs": [],
   "source": [
    "# create 2 dataframes. \n",
    "# df will be used for EDA\n",
    "# dfml will be used for the machine learning portion\n",
    "\n",
    "\n",
    "dfml = df.drop(columns = ['mkt_unique_carrier', 'airport', 'station', 'flight_date', 'time', 'report_type',\n",
    "                        'day_of_week', 'origin', 'origin_city_name', 'dest', 'dest_city_name', 'dep_time', \n",
    "                        'dep_del15', 'dep_delay_group', 'dep_time_blk', 'arr_time', 'arr_delay_group', 'arr_time_blk', \n",
    "                        'crs_elapsed_time', 'actual_elapsed_time', 'air_time', 'flights', 'distance', 'distance_group', \n",
    "                        'carrier_delay', 'weather_delay', 'nas_delay', 'security_delay', 'late_aircraft_delay', 'crs_dep_hr', \n",
    "                        'hour', 'fl_date'])\n",
    "\n",
    "df = df.drop(columns = ['mkt_carrier_fl_num', 'mkt_unique_carrier', 'origin_airport_id', 'dest_airport_id', \n",
    "                        'airport', 'station', 'flight_date', 'time', 'hour', 'report_type'])"
   ]
  },
  {
   "cell_type": "markdown",
   "id": "476d5683",
   "metadata": {},
   "source": [
    "## EDA Plots"
   ]
  },
  {
   "cell_type": "code",
   "execution_count": 16,
   "id": "08844df7",
   "metadata": {
    "scrolled": false
   },
   "outputs": [
    {
     "name": "stderr",
     "output_type": "stream",
     "text": [
      "<ipython-input-16-0517dce9b986>:91: UserWarning: FixedFormatter should only be used together with FixedLocator\n",
      "  ax4.set_yticklabels(['Unknown', '< -15' ,'-15 - -1', '0 - 14', '15 - 29', '30 - 44', '45 - 59', '60 - 74', '75 - 89'],\n"
     ]
    },
    {
     "data": {
      "image/png": "[encoded data removed]",
      "text/plain": [
       "<Figure size 1440x1800 with 9 Axes>"
      ]
     },
     "metadata": {
      "needs_background": "light"
     },
     "output_type": "display_data"
    }
   ],
   "source": [
    "# 8 plots (AX1 - AX8), read from left to right, top to bottom.\n",
    "\n",
    "# global plot settings\n",
    "fig, ((ax1, ax2), (ax3, ax4), (ax5, ax6), (ax7, ax8)) = plt.subplots(4, 2, figsize=(20,25))\n",
    "fig.subplots_adjust(left=0.2, wspace=0.6)\n",
    "fontsize = 14\n",
    "\n",
    "\n",
    "\n",
    "\n",
    "#### AX1 - On-time vs Delayed Arrivals Pie Chart ########################################\n",
    "\n",
    "# data for pie chart\n",
    "total_num_flights = df['flights'].sum() \n",
    "total_num_delayed_flights = df['arr_del15'].sum()\n",
    "on_time = total_num_flights - total_num_delayed_flights\n",
    "\n",
    "# plot pie chart\n",
    "slices_plt_1 = [on_time, total_num_delayed_flights]\n",
    "labels_plt_1 = ['On Time', 'Delayed']\n",
    "colors_plt_1 = ['#003366', '#C01933']\n",
    "patches, texts, pcts = ax1.pie(slices_plt_1, labels = labels_plt_1, colors = colors_plt_1, wedgeprops={'edgecolor': 'black'}, \n",
    "                               textprops={'size': 16}, autopct='%1.1f%%')\n",
    "plt.setp(pcts, color='white')\n",
    "ax1.set_title('On-time vs Delayed Arrivals', {'fontsize': 22})\n",
    "\n",
    "\n",
    "\n",
    "\n",
    "#### AX2 - Delay Causes Pie Chart #######################################################\n",
    "\n",
    "# sum up all delay durations, per delay category\n",
    "cols_to_sum = ['carrier_delay', 'weather_delay', 'nas_delay', 'security_delay', 'late_aircraft_delay']\n",
    "summed_mins_delayed = df[cols_to_sum].sum()\n",
    "\n",
    "\n",
    "# function to calculate prorated portions of delays =\n",
    "# delay catgeory total minutes / all delays total minutes * total number of delayed flights \n",
    "def func(str):\n",
    "    result = summed_mins_delayed[str]/summed_mins_delayed.sum()*total_num_delayed_flights.astype(int)\n",
    "    return result\n",
    "\n",
    "# assign results to repspective variables\n",
    "carrier_delay_prorated = func('carrier_delay')\n",
    "security_delay_prorated = func('security_delay')\n",
    "weather_delay_prorated = func('weather_delay')\n",
    "nas_delay_prorated = func('nas_delay')\n",
    "late_aircraft_delay_prorated = func('late_aircraft_delay')\n",
    "\n",
    "# plot pie chart\n",
    "slices_plt_2 = [carrier_delay_prorated, security_delay_prorated, weather_delay_prorated, \n",
    "                nas_delay_prorated, late_aircraft_delay_prorated]\n",
    "labels_plt_2 = ['Carrier', 'Security', 'Weather', 'NAS', 'Late Aircraft']\n",
    "colors_plt_2 = ['#003366', '#EA8A1A', '#7799CC', '#94A545', '#C01933']\n",
    "patches, texts, pcts = (ax2.pie(slices_plt_2, labels = labels_plt_2, colors = colors_plt_2, wedgeprops={'edgecolor': 'black'}, \n",
    "                               textprops={'size': 16}, autopct='%1.1f%%'))\n",
    "plt.setp(pcts, color='white')\n",
    "ax2.set_title('Delay Causes', {'fontsize': 22})\n",
    "\n",
    "\n",
    "\n",
    "\n",
    "#### AX3 - Avg. Delay Duration by Cause Bar Chart ######################################\n",
    "\n",
    "# calculate the average delay duration per category\n",
    "df_delays_only = df[df['arr_del15'] == 1]\n",
    "cols_to_mean = ['carrier_delay', 'weather_delay', 'nas_delay', 'security_delay', 'late_aircraft_delay']\n",
    "df_delayAvgs = df_delays_only[cols_to_mean].mean()\n",
    "\n",
    "# plot bar chart\n",
    "x_labels_plt_3 = ['Carrier', 'Weather', 'NAS', 'Security', 'Late Aircraft']\n",
    "ax3.bar(x_labels_plt_3, height = df_delayAvgs, color = '#003366', edgecolor='#C01933')\n",
    "ax3.set_title('Avg Delay Duration by Cause', {'fontsize': 22})\n",
    "ax3.tick_params(axis='x', labelsize=fontsize)\n",
    "ax3.tick_params(axis='y', labelsize=fontsize)\n",
    "ax3.set_ylabel('Minutes', color=\"black\", fontsize=fontsize)\n",
    "\n",
    "\n",
    "\n",
    "\n",
    "#### AX4 -  Avg. Delay Duration by Airport Bar Chart ####################################\n",
    "\n",
    "# calculate the average delay duration by airport\n",
    "x_labels_plt_4 = ['ATL', 'DTW', 'LGA', 'MSP', 'SLC']\n",
    "df_delays_only = df[df['arr_del15'] == 1]\n",
    "df_delay_orig = df_delays_only.groupby(['origin'])['arr_delay_group'].mean().round(0).astype(int)\n",
    "\n",
    "# plot bar chart\n",
    "ax4.bar(x_labels_plt_4, height = df_delay_orig, color=('#003366'),  edgecolor='#C01933')\n",
    "ax4.set_title('Avg. Delay Duration by Airport', {'fontsize': 22})\n",
    "ax4.set_yticklabels(['Unknown', '< -15' ,'-15 - -1', '0 - 14', '15 - 29', '30 - 44', '45 - 59', '60 - 74', '75 - 89'], \n",
    "                    fontsize = 14)\n",
    "ax4.set_ylabel('Minutes', color=\"black\", fontsize=fontsize)\n",
    "ax4.tick_params(axis='x', labelsize=fontsize)\n",
    "\n",
    "\n",
    "\n",
    "\n",
    "#### AX5 - Delays by Day of Week Bar Chart #############################################\n",
    "\n",
    "# gather number of delays by day of week\n",
    "df_delay_by_day = df.groupby(['day_of_week'])[['arr_del15']].sum()\n",
    "\n",
    "# plot bar chart\n",
    "x_labels_plt_5 = ['Mon', 'Tue', 'Wed', 'Thu', 'Fri', 'Sat', 'Sun']\n",
    "y_labels_plt_5 = df_delay_by_day['arr_del15']\n",
    "ax5.bar(x_labels_plt_5, y_labels_plt_5, color=('#003366'),  edgecolor='#C01933')\n",
    "ax5.set_title('Delays by Day of Week (Tot. 2019)', {'fontsize': 22})\n",
    "ax5.set_ylabel('Flights', color=\"black\", fontsize=fontsize)\n",
    "ax5.tick_params(axis='x', labelsize=fontsize)\n",
    "ax5.tick_params(axis='y', labelsize=fontsize)\n",
    "\n",
    "\n",
    "\n",
    "\n",
    "#### AX6 - Delays by Hour Bar Chart ###################################################\n",
    "\n",
    "# gather number delays by crs_dep_hr (Computer Reservation System departure hour: hour when plane was scheduled to depart)\n",
    "df_delay_by_hour = df.groupby(['crs_dep_hr'])[['arr_del15']].sum()\n",
    "\n",
    "# resort the index to ascending hours; only plot hours with more than 30 delays to remove extreme outliers\n",
    "df_delay_by_hour = df_delay_by_hour.sort_values(by = ['crs_dep_hr'], ascending = True)\n",
    "df_delay_by_hour = df_delay_by_hour[df_delay_by_hour['arr_del15'] > 30]\n",
    "\n",
    "# plot bar chart\n",
    "x_labels_plt_6 = ['06', '07', '08', '09', '10', '11', '12', '13', '14', '15', '16', '17', '18', '19', '20', '21', '22', '23']\n",
    "y_labels_plt_6 = df_delay_by_hour['arr_del15']\n",
    "ax6.set_title('Delays by Hour of Day (Tot. 2019)', {'fontsize': 22})\n",
    "ax6.bar(x_labels_plt_6, y_labels_plt_6, color='#003366',  edgecolor='#C01933')\n",
    "ax6.set_ylabel('Flights', color=\"black\", fontsize=fontsize)\n",
    "ax6.tick_params(axis='x', labelsize=fontsize)\n",
    "ax6.tick_params(axis='y', labelsize=fontsize)\n",
    "\n",
    "\n",
    "\n",
    "\n",
    "##### AX7 Delays by Month Bar Chart ##################################################\n",
    "\n",
    "# gather number of flight delays by month\n",
    "df['fl_date'] =  pd.to_datetime(df['fl_date'])\n",
    "df['flight_month'] = df['fl_date'].dt.month\n",
    "df_delay_by_month = df.groupby(['flight_month'])[['arr_del15']].sum()\n",
    "\n",
    "# plot bar chart\n",
    "x_labels_plt_7 = ['Jan', 'Feb', 'Mar', 'Apr', 'May', 'Jun', 'Jul', 'Aug', 'Sep', 'Oct', 'Nov', 'Dec']\n",
    "y_labels_plt_7 =  df_delay_by_month['arr_del15']\n",
    "ax7.set_title('Delays by Month (Tot. 2019)', {'fontsize': 22})\n",
    "ax7.bar(x_labels_plt_7, y_labels_plt_7, color=('#003366'),  edgecolor='#C01933')\n",
    "ax7.set_ylabel('Flights', color=\"black\", fontsize=fontsize)\n",
    "ax7.tick_params(axis='x', labelsize=fontsize)\n",
    "ax7.tick_params(axis='y', labelsize=fontsize)\n",
    "\n",
    "\n",
    "\n",
    "\n",
    "#### AX8 - Delays by Distance Flown ##################################################\n",
    "\n",
    "# gather number of flights, and delays by distance grouping\n",
    "df_flights_by_distance = df.groupby(['distance_group'])[['flights']].sum()\n",
    "df_delay_by_distance = df.groupby(['distance_group'])[['arr_del15', 'flights']].sum()\n",
    "\n",
    "# plot 1st axis: number of flights per distance grouping\n",
    "x_labels_plt_8 = ['250', '500', '750', '1000', '1250', '1500', '1750', '2000', '2250', '2500', '2750']\n",
    "ax8.bar(x_labels_plt_8, df_flights_by_distance['flights'], color=\"#003366\", edgecolor='#C01933', label = 'Flights')\n",
    "ax8.set_xlabel(\"Miles\", fontsize=fontsize)\n",
    "ax8.set_ylabel(\"Flights\",fontsize=fontsize)\n",
    "ax8.tick_params(axis='y', labelsize=fontsize)\n",
    "ax8.tick_params(axis='x', labelsize=fontsize, rotation = 45)\n",
    "\n",
    "# plot 2nd axis: number of delays per distance grouping\n",
    "ax8_second_axis = ax8.twinx()\n",
    "ax8_second_axis.plot(x_labels_plt_8, df_delay_by_distance['arr_del15'], color='#C01933', marker = \"o\", label = 'Delays')\n",
    "ax8_second_axis.set_title('Delays by Distance Flown (Tot. 2019)', {'fontsize': 22})\n",
    "ax8_second_axis.set_ylabel('Delays', color=\"black\", fontsize=fontsize)\n",
    "ax8_second_axis.tick_params(axis='y', labelsize=fontsize)\n",
    "\n",
    "# Legend\n",
    "handles, labels = ax8.get_legend_handles_labels()\n",
    "handles2, labels2 = ax8_second_axis.get_legend_handles_labels()\n",
    "handles_combined = handles + handles2\n",
    "labels_combined = labels +  labels2\n",
    "ax8.legend(handles_combined, labels_combined, prop={'size': 14})\n",
    "\n",
    "plt.show()"
   ]
  },
  {
   "cell_type": "markdown",
   "id": "726e8cc7",
   "metadata": {},
   "source": [
    "# 4. MACHINE LEARNING"
   ]
  },
  {
   "cell_type": "markdown",
   "id": "6f39f4d4",
   "metadata": {},
   "source": [
    "## Train/Test/Split"
   ]
  },
  {
   "cell_type": "code",
   "execution_count": 17,
   "id": "5fa94467",
   "metadata": {},
   "outputs": [],
   "source": [
    "# assign arr_del15 as label for machine learning models.\n",
    "# train/test/split\n",
    "X = dfml.drop(columns = ['arr_del15'])\n",
    "y = dfml.arr_del15\n",
    "\n",
    "X_train, X_test, y_train, y_test = train_test_split(X, y, test_size=0.2, random_state = 42)"
   ]
  },
  {
   "cell_type": "markdown",
   "id": "79535c02",
   "metadata": {},
   "source": [
    "## Scale Data"
   ]
  },
  {
   "cell_type": "code",
   "execution_count": 18,
   "id": "81bac5f0",
   "metadata": {},
   "outputs": [],
   "source": [
    "# scale Data and save to train/test DataFrames\n",
    "scaler = StandardScaler()\n",
    "\n",
    "scaled_data = scaler.fit_transform(X_train)\n",
    "train_df_scaled = pd.DataFrame(scaled_data)\n",
    "\n",
    "scaled_testData = scaler.transform(X_test)\n",
    "test_df_scaled = pd.DataFrame(scaled_testData)\n",
    "\n",
    "X_train = train_df_scaled\n",
    "X_test = test_df_scaled"
   ]
  },
  {
   "cell_type": "markdown",
   "id": "2d908708",
   "metadata": {},
   "source": [
    "# Logistic Regression Classifier"
   ]
  },
  {
   "cell_type": "markdown",
   "id": "b8c038ab",
   "metadata": {},
   "source": [
    "## Logistic Regression Classifier: Baseline"
   ]
  },
  {
   "cell_type": "code",
   "execution_count": 19,
   "id": "628cac8e",
   "metadata": {},
   "outputs": [
    {
     "name": "stdout",
     "output_type": "stream",
     "text": [
      "Wall time: 123 ms\n"
     ]
    },
    {
     "data": {
      "text/plain": [
       "LogisticRegression()"
      ]
     },
     "execution_count": 19,
     "metadata": {},
     "output_type": "execute_result"
    }
   ],
   "source": [
    "%%time\n",
    "\n",
    "# establish baseline performance \n",
    "lr = LogisticRegression()\n",
    "lr.fit(X_train, y_train)"
   ]
  },
  {
   "cell_type": "code",
   "execution_count": 20,
   "id": "b88191d7",
   "metadata": {},
   "outputs": [
    {
     "name": "stdout",
     "output_type": "stream",
     "text": [
      "Accuracy:  0.8428976439534657\n",
      "Precision:  0.45714285714285713\n",
      "Recall:  0.019987507807620236\n"
     ]
    }
   ],
   "source": [
    "# make predictions\n",
    "lr_pred = lr.predict(X_test)\n",
    "\n",
    "# Measure accuracy, precision, and recall\n",
    "lr_acc = accuracy_score(y_test, lr_pred)\n",
    "lr_prec = precision_score(y_test, lr_pred)\n",
    "lr_recall = recall_score(y_test, lr_pred)\n",
    "\n",
    "print(\"Accuracy: \", lr_acc)\n",
    "print(\"Precision: \",  lr_prec)\n",
    "print(\"Recall: \", lr_recall)"
   ]
  },
  {
   "cell_type": "markdown",
   "id": "07f5c328",
   "metadata": {},
   "source": [
    "## Logistic Regression Classifier: Hyperparameter Tuning"
   ]
  },
  {
   "cell_type": "code",
   "execution_count": 21,
   "id": "b38aaa71",
   "metadata": {},
   "outputs": [
    {
     "data": {
      "text/plain": [
       "{'solver': 'newton-cg', 'random_state': 42, 'C': 0.01}"
      ]
     },
     "execution_count": 21,
     "metadata": {},
     "output_type": "execute_result"
    }
   ],
   "source": [
    "#Logistic Regression - round 1\n",
    "\n",
    "# Parameters\n",
    "space = dict()\n",
    "space['solver'] = ['newton-cg', 'lbfgs', 'liblinear', 'sag', 'saga']\n",
    "# space['penalty'] = ['l2'] ### leaving penalty out during first round of tuning until  best Solver is known.\n",
    "space['C'] = [100, 10, 1.0, 0.1, 0.01]\n",
    "space['random_state'] = [42]\n",
    "\n",
    "# train model\n",
    "lr = LogisticRegression()\n",
    "rand_search_lr = RandomizedSearchCV(lr, space, n_iter = 25, scoring = 'accuracy', n_jobs = -1)\n",
    "rand_search_lr.fit(X_train, y_train)\n",
    "\n",
    "# show best parameters\n",
    "rand_search_lr.best_params_"
   ]
  },
  {
   "cell_type": "code",
   "execution_count": 22,
   "id": "49fdd746",
   "metadata": {},
   "outputs": [
    {
     "data": {
      "text/plain": [
       "{'solver': 'newton-cg', 'random_state': 42, 'penalty': 'l2', 'C': 0.01}"
      ]
     },
     "execution_count": 22,
     "metadata": {},
     "output_type": "execute_result"
    }
   ],
   "source": [
    "#Logistic Regression - round 2\n",
    "\n",
    "space = dict()\n",
    "space['solver'] = ['newton-cg']\n",
    "space['penalty'] = ['l2']\n",
    "space['C'] = [0.001, 0.005, 0.01, 0.05, 0.1]\n",
    "space['random_state'] = [42]\n",
    "\n",
    "lr = LogisticRegression()\n",
    "rand_search_lr_2 = RandomizedSearchCV(lr, space, n_iter = 5, scoring = 'accuracy', n_jobs = -1)\n",
    "rand_search_lr_2.fit(X_train, y_train)\n",
    "\n",
    "rand_search_lr_2.best_params_"
   ]
  },
  {
   "cell_type": "code",
   "execution_count": 23,
   "id": "df882efe",
   "metadata": {},
   "outputs": [
    {
     "data": {
      "text/plain": [
       "{'solver': 'newton-cg', 'random_state': 42, 'penalty': 'l2', 'C': 0.01}"
      ]
     },
     "execution_count": 23,
     "metadata": {},
     "output_type": "execute_result"
    }
   ],
   "source": [
    "#Logistic Regression - round 3\n",
    "\n",
    "space = dict()\n",
    "space['solver'] = ['newton-cg']\n",
    "space['penalty'] = ['l2']\n",
    "space['C'] = [0.005, 0.008, 0.01, 0.03, 0.05]\n",
    "space['random_state'] = [42]\n",
    "\n",
    "lr = LogisticRegression()\n",
    "rand_search_lr_3 = RandomizedSearchCV(lr, space, n_iter = 5, scoring = 'accuracy', n_jobs = -1)\n",
    "rand_search_lr_3.fit(X_train, y_train)\n",
    "\n",
    "rand_search_lr_3.best_params_"
   ]
  },
  {
   "cell_type": "code",
   "execution_count": 24,
   "id": "418641f7",
   "metadata": {},
   "outputs": [
    {
     "data": {
      "text/plain": [
       "{'solver': 'lbfgs', 'random_state': 42, 'penalty': 'l2', 'C': 0.015}"
      ]
     },
     "execution_count": 24,
     "metadata": {},
     "output_type": "execute_result"
    }
   ],
   "source": [
    "#Logistic Regression - round 4\n",
    "\n",
    "space = dict()\n",
    "space['solver'] = ['lbfgs']\n",
    "space['penalty'] = ['l2']\n",
    "space['C'] = [.008, .009, .01, .0125, .015, .0175, .02]\n",
    "space['random_state'] = [42]\n",
    "\n",
    "lr = LogisticRegression()\n",
    "rand_search_lr_4 = RandomizedSearchCV(lr, space, n_iter = 7, scoring = 'accuracy', n_jobs = -1)\n",
    "rand_search_lr_4.fit(X_train, y_train)\n",
    "\n",
    "rand_search_lr_4.best_params_"
   ]
  },
  {
   "cell_type": "markdown",
   "id": "7cdcec32",
   "metadata": {},
   "source": [
    "## Logistic Regression Classifier: Optimal Hyperparameters Found & Model Retrained"
   ]
  },
  {
   "cell_type": "code",
   "execution_count": 25,
   "id": "389311dd",
   "metadata": {},
   "outputs": [
    {
     "name": "stdout",
     "output_type": "stream",
     "text": [
      "Wall time: 108 ms\n"
     ]
    },
    {
     "data": {
      "text/plain": [
       "LogisticRegression(C=0.015, random_state=42)"
      ]
     },
     "execution_count": 25,
     "metadata": {},
     "output_type": "execute_result"
    }
   ],
   "source": [
    "%%time \n",
    "\n",
    "# train model with optimal hyperparameters\n",
    "lr_opt = LogisticRegression(**rand_search_lr_4.best_params_)\n",
    "lr_opt.fit(X_train, y_train)"
   ]
  },
  {
   "cell_type": "code",
   "execution_count": 26,
   "id": "ddc2411c",
   "metadata": {},
   "outputs": [
    {
     "name": "stdout",
     "output_type": "stream",
     "text": [
      "Accuracy:  0.8430931664874377\n",
      "Precision:  0.47058823529411764\n",
      "Recall:  0.019987507807620236\n"
     ]
    }
   ],
   "source": [
    "# make predictions\n",
    "lr_pred = rand_search_lr_4.predict(X_test)\n",
    "\n",
    "# Measure accuracy, precision, and recall\n",
    "lr_acc_opt = accuracy_score(y_test, lr_pred)\n",
    "lr_prec_opt = precision_score(y_test, lr_pred)\n",
    "lr_recall_opt = recall_score(y_test, lr_pred)\n",
    "\n",
    "print(\"Accuracy: \", lr_acc_opt)\n",
    "print(\"Precision: \",  lr_prec_opt)\n",
    "print(\"Recall: \", lr_recall_opt)"
   ]
  },
  {
   "cell_type": "markdown",
   "id": "ace99a5b",
   "metadata": {},
   "source": [
    "# Gradient  Boosting Classifier"
   ]
  },
  {
   "cell_type": "markdown",
   "id": "18ecce7b",
   "metadata": {},
   "source": [
    "## Gradient  Boosting Classifier: Baseline"
   ]
  },
  {
   "cell_type": "code",
   "execution_count": 27,
   "id": "9be0be10",
   "metadata": {},
   "outputs": [
    {
     "name": "stdout",
     "output_type": "stream",
     "text": [
      "Wall time: 11.2 s\n"
     ]
    },
    {
     "data": {
      "text/plain": [
       "GradientBoostingClassifier()"
      ]
     },
     "execution_count": 27,
     "metadata": {},
     "output_type": "execute_result"
    }
   ],
   "source": [
    "%%time \n",
    "\n",
    "# establish baseline performance\n",
    "gbc_baseline = GradientBoostingClassifier()\n",
    "gbc_baseline.fit(X_train, y_train)"
   ]
  },
  {
   "cell_type": "code",
   "execution_count": 28,
   "id": "eb760f8a",
   "metadata": {},
   "outputs": [
    {
     "name": "stdout",
     "output_type": "stream",
     "text": [
      "Accuracy:  0.8515006354482354\n",
      "Precision:  0.6961722488038278\n",
      "Recall:  0.09088069956277327\n"
     ]
    }
   ],
   "source": [
    "# make predictions\n",
    "gbc_pred = gbc_baseline.predict(X_test)\n",
    "\n",
    "# Measure accuracy, precision, and recall\n",
    "gbc_acc = accuracy_score(y_test, gbc_pred)\n",
    "gbc_prec = precision_score(y_test, gbc_pred)\n",
    "gbc_recall = recall_score(y_test, gbc_pred)\n",
    "\n",
    "print(\"Accuracy: \", gbc_acc)\n",
    "print(\"Precision: \",  gbc_prec)\n",
    "print(\"Recall: \", gbc_recall)"
   ]
  },
  {
   "cell_type": "markdown",
   "id": "0aeadc6f",
   "metadata": {},
   "source": [
    "## Gradient  Boosting Classifier: Hyperparameter Tuning"
   ]
  },
  {
   "cell_type": "code",
   "execution_count": 29,
   "id": "48a5a996",
   "metadata": {},
   "outputs": [
    {
     "data": {
      "text/plain": [
       "{'random_state': 42,\n",
       " 'n_estimators': 500,\n",
       " 'max_depth': 11,\n",
       " 'learning_rate': 0.09}"
      ]
     },
     "execution_count": 29,
     "metadata": {},
     "output_type": "execute_result"
    }
   ],
   "source": [
    "#Gradient Boosting Classifier - round 1\n",
    "\n",
    "# parameters\n",
    "space = dict()\n",
    "space['learning_rate'] = [0.001, 0.0025, 0.005, 0.0075, 0.01, 0.02, 0.03, 0.04, 0.05, 0.06, 0.07, 0.08, 0.09, 0.1, 0.2, 0.3, 0.4, 0.5, 0.6, 0.7, 0.8, 0.9, 1.0, 1.25, 1.5, 1.75, 2.0]\n",
    "space['n_estimators'] = [1, 5, 10, 25, 50, 75, 100, 125, 150, 175, 200, 250, 300, 400, 500]\n",
    "space['max_depth'] = [3, 7, 9, 11, 13, 17, 20]\n",
    "space['random_state'] = [42]\n",
    "    \n",
    "# train model\n",
    "gbc = GradientBoostingClassifier()\n",
    "rand_search_gbc = RandomizedSearchCV(gbc, space, n_iter=10, scoring = 'accuracy')\n",
    "rand_search_gbc.fit(X_train, y_train)\n",
    "\n",
    "# show best parameters\n",
    "rand_search_gbc.best_params_"
   ]
  },
  {
   "cell_type": "code",
   "execution_count": 31,
   "id": "a292aca6",
   "metadata": {},
   "outputs": [
    {
     "data": {
      "text/plain": [
       "{'random_state': 42,\n",
       " 'n_estimators': 600,\n",
       " 'max_depth': 12,\n",
       " 'learning_rate': 0.03}"
      ]
     },
     "execution_count": 31,
     "metadata": {},
     "output_type": "execute_result"
    }
   ],
   "source": [
    "#Gradient Boosting Classifier - round 2\n",
    "\n",
    "space = dict()\n",
    "space['learning_rate'] = np.arange(0.01, 0.1, .02)\n",
    "space['n_estimators'] = np.arange(100, 700, 25)\n",
    "space['max_depth'] = np.arange(9, 17)\n",
    "space['random_state'] = [42]\n",
    "\n",
    "gbc = GradientBoostingClassifier()\n",
    "rand_search_gbc_2 = RandomizedSearchCV(gbc, space, n_iter=10, scoring = 'accuracy')\n",
    "rand_search_gbc_2.fit(X_train, y_train)\n",
    "\n",
    "rand_search_gbc_2.best_params_"
   ]
  },
  {
   "cell_type": "code",
   "execution_count": 32,
   "id": "c44e1fc0",
   "metadata": {},
   "outputs": [
    {
     "data": {
      "text/plain": [
       "{'random_state': 42,\n",
       " 'n_estimators': 590,\n",
       " 'max_depth': 12,\n",
       " 'learning_rate': 0.05}"
      ]
     },
     "execution_count": 32,
     "metadata": {},
     "output_type": "execute_result"
    }
   ],
   "source": [
    "#Gradient Boosting Classifier - round 3\n",
    "\n",
    "space = dict()\n",
    "space['learning_rate'] = np.arange(.03, .09, .01)\n",
    "space['n_estimators'] = np.arange(500, 600, 10)\n",
    "space['max_depth'] = np.arange(10, 14)\n",
    "space['random_state'] = [42]\n",
    "    \n",
    "gbc = GradientBoostingClassifier()\n",
    "rand_search_gbc_3 = RandomizedSearchCV(gbc, space, n_iter=7, scoring = 'accuracy')\n",
    "rand_search_gbc_3.fit(X_train, y_train)\n",
    "\n",
    "rand_search_gbc_3.best_params_"
   ]
  },
  {
   "cell_type": "code",
   "execution_count": 33,
   "id": "935ea428",
   "metadata": {},
   "outputs": [
    {
     "data": {
      "text/plain": [
       "{'random_state': 42,\n",
       " 'n_estimators': 603,\n",
       " 'max_depth': 7,\n",
       " 'learning_rate': 0.04}"
      ]
     },
     "execution_count": 33,
     "metadata": {},
     "output_type": "execute_result"
    }
   ],
   "source": [
    "#Gradient Boosting Classifier - round 4\n",
    "\n",
    "space = dict()\n",
    "space['learning_rate'] = np.arange(.03, .07, .01)\n",
    "space['n_estimators'] = np.arange(585, 605, 3)\n",
    "space['max_depth'] = np.arange(12)\n",
    "space['random_state'] = [42]\n",
    "    \n",
    "gbc = GradientBoostingClassifier()\n",
    "rand_search_gbc_4 = RandomizedSearchCV(gbc, space, n_iter=1, scoring = 'accuracy')\n",
    "rand_search_gbc_4.fit(X_train, y_train)\n",
    "\n",
    "rand_search_gbc_4.best_params_"
   ]
  },
  {
   "cell_type": "markdown",
   "id": "2985573a",
   "metadata": {},
   "source": [
    "## Gradient  Boosting Classifier: Optimal Hyperparameters Found & Model Retrained"
   ]
  },
  {
   "cell_type": "code",
   "execution_count": 34,
   "id": "47ca8766",
   "metadata": {},
   "outputs": [
    {
     "name": "stdout",
     "output_type": "stream",
     "text": [
      "Wall time: 2min 34s\n"
     ]
    },
    {
     "data": {
      "text/plain": [
       "GradientBoostingClassifier(learning_rate=0.04, max_depth=7, n_estimators=603,\n",
       "                           random_state=42)"
      ]
     },
     "execution_count": 34,
     "metadata": {},
     "output_type": "execute_result"
    }
   ],
   "source": [
    "%%time \n",
    "\n",
    "# train model with optimal hyperparameters\n",
    "gbc_opt = GradientBoostingClassifier(**rand_search_gbc_4.best_params_)\n",
    "gbc_opt.fit(X_train, y_train)"
   ]
  },
  {
   "cell_type": "code",
   "execution_count": 35,
   "id": "19ebc011",
   "metadata": {},
   "outputs": [
    {
     "name": "stdout",
     "output_type": "stream",
     "text": [
      "Accuracy:  0.8603969107439633\n",
      "Precision:  0.7064439140811456\n",
      "Recall:  0.1848844472204872\n"
     ]
    }
   ],
   "source": [
    "# make predictions\n",
    "gbc_pred = rand_search_gbc_4.predict(X_test)\n",
    "\n",
    "# Measure accuracy, precision, and recall\n",
    "gbc_acc_opt = accuracy_score(y_test, gbc_pred)\n",
    "gbc_prec_opt = precision_score(y_test, gbc_pred)\n",
    "gbc_recall_opt = recall_score(y_test, gbc_pred)\n",
    "\n",
    "print(\"Accuracy: \", gbc_acc_opt)\n",
    "print(\"Precision: \",  gbc_prec_opt)\n",
    "print(\"Recall: \", gbc_recall_opt)"
   ]
  },
  {
   "cell_type": "markdown",
   "id": "410486c4",
   "metadata": {},
   "source": [
    "# 5. PRINCIPAL COMPONENT ANALYSIS"
   ]
  },
  {
   "cell_type": "code",
   "execution_count": 36,
   "id": "5ea38223",
   "metadata": {},
   "outputs": [
    {
     "data": {
      "text/plain": [
       "12"
      ]
     },
     "execution_count": 36,
     "metadata": {},
     "output_type": "execute_result"
    }
   ],
   "source": [
    "# Perform Principal Component Analysis\n",
    "# Configure to keep 95% of the variance. Execute fit_transform to reduce components.\n",
    "pca = PCA(n_components=0.95)\n",
    "X_reduced_train = pca.fit_transform(X_train)\n",
    "X_reduced_test = pca.transform(X_test)\n",
    "pca.n_components_"
   ]
  },
  {
   "cell_type": "markdown",
   "id": "c1f10346",
   "metadata": {},
   "source": [
    "# 6. RETRAIN MODELS"
   ]
  },
  {
   "cell_type": "markdown",
   "id": "3e8dd335",
   "metadata": {},
   "source": [
    "## PCA: Logistic Regression"
   ]
  },
  {
   "cell_type": "code",
   "execution_count": 37,
   "id": "ea9a08b3",
   "metadata": {},
   "outputs": [
    {
     "name": "stdout",
     "output_type": "stream",
     "text": [
      "Wall time: 64.8 ms\n"
     ]
    },
    {
     "data": {
      "text/plain": [
       "LogisticRegression(C=0.015, random_state=42)"
      ]
     },
     "execution_count": 37,
     "metadata": {},
     "output_type": "execute_result"
    }
   ],
   "source": [
    "%%time \n",
    "\n",
    "# train optimal Logistic Regression model after PCA\n",
    "lr_opt = LogisticRegression(**rand_search_lr_4.best_params_)\n",
    "lr_opt.fit(X_reduced_train, y_train)"
   ]
  },
  {
   "cell_type": "code",
   "execution_count": 38,
   "id": "c20b2903",
   "metadata": {},
   "outputs": [
    {
     "name": "stdout",
     "output_type": "stream",
     "text": [
      "Accuracy:  0.8431909277544237\n",
      "Precision:  0.47619047619047616\n",
      "Recall:  0.018738288569643973\n"
     ]
    }
   ],
   "source": [
    "# make predictions\n",
    "lr_opt_pred = lr_opt.predict(X_reduced_test)\n",
    "\n",
    "# Measure accuracy, precision, and recall\n",
    "lr_acc_PCA = accuracy_score(y_test, lr_opt_pred)\n",
    "lr_prec_PCA = precision_score(y_test, lr_opt_pred)\n",
    "lr_recall_PCA = recall_score(y_test, lr_opt_pred)\n",
    "\n",
    "print(\"Accuracy: \", lr_acc_PCA)\n",
    "print(\"Precision: \",  lr_prec_PCA)\n",
    "print(\"Recall: \", lr_recall_PCA)"
   ]
  },
  {
   "cell_type": "markdown",
   "id": "84ae0492",
   "metadata": {},
   "source": [
    "## PCA : Gradient Boosting"
   ]
  },
  {
   "cell_type": "code",
   "execution_count": 39,
   "id": "bc773ed2",
   "metadata": {},
   "outputs": [
    {
     "name": "stdout",
     "output_type": "stream",
     "text": [
      "Wall time: 5min 40s\n"
     ]
    },
    {
     "data": {
      "text/plain": [
       "GradientBoostingClassifier(learning_rate=0.04, max_depth=7, n_estimators=603,\n",
       "                           random_state=42)"
      ]
     },
     "execution_count": 39,
     "metadata": {},
     "output_type": "execute_result"
    }
   ],
   "source": [
    "%%time \n",
    "\n",
    "# train optimal Gradient Boosting model after PCA\n",
    "gbc_opt = GradientBoostingClassifier(**rand_search_gbc_4.best_params_)\n",
    "gbc_opt.fit(X_reduced_train, y_train)"
   ]
  },
  {
   "cell_type": "code",
   "execution_count": 40,
   "id": "07f24ca5",
   "metadata": {},
   "outputs": [
    {
     "name": "stdout",
     "output_type": "stream",
     "text": [
      "Accuracy:  0.8552644442271972\n",
      "Precision:  0.6790490341753344\n",
      "Recall:  0.14272329793878827\n"
     ]
    }
   ],
   "source": [
    "# make predictions\n",
    "gbc_opt_pred = gbc_opt.predict(X_reduced_test)\n",
    "\n",
    "# measure accuracy, precision, and recall\n",
    "gbc_acc_PCA = accuracy_score(y_test, gbc_opt_pred)\n",
    "gbc_prec_PCA = precision_score(y_test, gbc_opt_pred)\n",
    "gbc_recall_PCA = recall_score(y_test, gbc_opt_pred)\n",
    "\n",
    "print(\"Accuracy: \", gbc_acc_PCA)\n",
    "print(\"Precision: \",  gbc_prec_PCA)\n",
    "print(\"Recall: \", gbc_recall_PCA)"
   ]
  },
  {
   "cell_type": "markdown",
   "id": "3fc9c10b",
   "metadata": {},
   "source": [
    "# 7. RESULTS, OBSERVATIONS, CONCLUSION"
   ]
  },
  {
   "cell_type": "markdown",
   "id": "790ec0e3",
   "metadata": {},
   "source": [
    "# Results"
   ]
  },
  {
   "cell_type": "code",
   "execution_count": 42,
   "id": "4d5c455e",
   "metadata": {},
   "outputs": [
    {
     "name": "stdout",
     "output_type": "stream",
     "text": [
      "                                          Baseline     Tuned      After PCA\n",
      "Logistic Regression     Time              123ms        108ms      65ms\n",
      "                        Accuracy          0.84         0.84       0.84\n",
      "                        Precision         0.46         0.47       0.48\n",
      "                        Recall            0.02         0.02       0.02\n",
      "\n",
      "Gradient Boosting       Time              11s          2:34       5:40\n",
      "                        Accuracy          0.85         0.86       0.86\n",
      "                        Precision         0.7          0.71       0.68\n",
      "                        Recall            0.09         0.18       0.14\n"
     ]
    }
   ],
   "source": [
    "print('                                         ' ,  'Baseline','   ', 'Tuned', '    ', 'After PCA' )\n",
    "print('Logistic Regression', '   ', 'Time', '            ', '123ms', '      ', '108ms', '    ', '65ms')\n",
    "print('                   ', '   ', 'Accuracy', '        ', lr_acc.round(2), '       ', lr_acc_opt.round(2), '     ', lr_acc_PCA.round(2))\n",
    "print('                       ', 'Precision', '       ', lr_prec.round(2), '       ', lr_prec_opt.round(2), '     ', lr_prec_PCA.round(2))\n",
    "print('                       ', 'Recall', '          ', lr_recall.round(2), '       ', lr_recall_opt.round(2), '     ', lr_recall_PCA.round(2))\n",
    "print('')\n",
    "print('Gradient Boosting', '     ', 'Time', '            ', '11s', '        ', '2:34', '     ', '5:40')\n",
    "print('                 ', '     ', 'Accuracy', '        ', gbc_acc.round(2), '       ', gbc_acc_opt.round(2), '     ', gbc_acc_PCA.round(2))\n",
    "print('                       ', 'Precision', '       ', gbc_prec.round(2), '        ', gbc_prec_opt.round(2), '     ', gbc_prec_PCA.round(2))\n",
    "print('                       ', 'Recall', '          ', gbc_recall.round(2), '       ', gbc_recall_opt.round(2), '     ', gbc_recall_PCA.round(2))"
   ]
  },
  {
   "cell_type": "markdown",
   "id": "09bf5a13",
   "metadata": {},
   "source": [
    "# Observations\n",
    "\n",
    "While it was interesting to see how the models performed with regards to accuracy and precision, recall was the metric that carried the most importance. As the models were attempting to predict whether or not a Delta flight was delayed, which would have significant impact to customers if implemented in a ‘flight delay prediction system’, it was critically important that just the portion of actual positives (delays) were identified correctly. \n",
    "\n",
    "Evaluating the models’ performance based on recall, the Gradient Boosting Classifier + hyperparameter tuning performed the best with a recall of 0.18. Conducting PCA and retraining the tuned Gradient Boosting Classifier also performed well (realtively), but recall was 0.14. This result is not entirely surprising as the model had less data to work with after PCA.\n",
    "\n",
    "With all other models and variations achieving recall ranging from 0.02 – 0.09, the tuned Gradient Boosting Classifier’s recall of 0.18 is the best. The tradeoff to achieving this relatively higher recall, however, is compute time. The fastest model was trained in just 65ms vs 2min, 34sec for the tuned Gradient Boosting Classifier, respectively."
   ]
  },
  {
   "cell_type": "markdown",
   "id": "0eab7ab7",
   "metadata": {},
   "source": [
    "# Conclusion\n",
    "\n",
    "The Gradient Boosting Classifier + hyperparameter tuning produced the highest recall of 0.18. While this recall result was the best by far, it is far too low to be implemented in an app, or to notify customers of potential flight delays. \n",
    "\n",
    "**Original research question:** How accurately (via recall) can flight delays be predicted using airline performance and weather data?  \n",
    "**Conclusion:** with the highest recall result being 0.18, flight delays cannot be accurately detected using airline performance and weather data in a meaningful way within the confines of this specific project. \n",
    "\n",
    "With that being said, there are number of improvements/changes that can be made to this project that may increase recall, such as:\n",
    "* Training the machine learning models with a balanced dataset\n",
    "* Using GridSearchCV instead of RandomSearchCV to more accurately identify the best hyperparameters\n",
    "* Increasing the size of the training set.\n",
    "* Adding more features. For example, this project’s dataset only contains weather data for the departing airport. Adding weather data for the arrival airport may improve the models' performance.\n"
   ]
  }
 ],
 "metadata": {
  "kernelspec": {
   "display_name": "Python 3.8 (tensorflow)",
   "language": "python",
   "name": "tensorflow"
  },
  "language_info": {
   "codemirror_mode": {
    "name": "ipython",
    "version": 3
   },
   "file_extension": ".py",
   "mimetype": "text/x-python",
   "name": "python",
   "nbconvert_exporter": "python",
   "pygments_lexer": "ipython3",
   "version": "3.8.10"
  }
 },
 "nbformat": 4,
 "nbformat_minor": 5
}
